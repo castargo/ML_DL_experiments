{
 "cells": [
  {
   "cell_type": "markdown",
   "metadata": {},
   "source": [
    "# Градиентный бустинг"
   ]
  },
  {
   "cell_type": "markdown",
   "metadata": {},
   "source": [
    "## Теория\n",
    "\n",
    "Градиентный бустинг — это алгоритм машинного обучения, который строит ансамбль неглубоких деревьев решений (глубина 2-8), путем **направленного** обучения этих базовых алгоритмов (последующие учатся на ошибках предыдущих).\n",
    "\n",
    "Бустинг - **сумма базовых алгоритмов**, а не их усреднение:\n",
    "\n",
    "$$a_N(x) = \\sum\\limits_{i=1}^N b_i(x)$$\n",
    "\n",
    "Как это работает? Пусть, например, мы решаем задачу регрессии и используем в качестве функции потерь среднеквадратическую ошибку: $MSE(a,X) = \\frac{1}{l} \\sum\\limits_{i=1}^l(a(x_i)-y_i)^2$\n",
    "\n",
    "Построим $N$ деревьев, исходя из соображения, что именно такое количество деревьев необходимо для минимизации ошибки. Тогда:\n",
    "\n",
    "$a_1(x) = b_1(x) = argmin_b \\frac{1}{l} \\sum\\limits_{i=1}^l(b(x_i)-y_i)^2$\n",
    "\n",
    "$a_2(x) = b_1(x) + b_2(x) = argmin_b \\frac{1}{l} \\sum\\limits_{i=1}^l (b_1(x_i) + b(x_i) - y_i)^2 = argmin_b \\frac{1}{l} \\sum\\limits_{i=1}^l (b(x_i) - (y_i - b_1(x_i)))^2$\n",
    "\n",
    "$...$\n",
    "\n",
    "$a_N(x) = argmin_b \\frac{1}{l} \\sum\\limits_{i=1}^l (b(x_i) - (y_i - \\sum\\limits_{n=1}^{N-1} b_n(x_i)))^2$\n",
    "\n",
    "### Несколько крутых визуализаций\n",
    "1. [Gradient Boosting explained [demonstration]](http://arogozhnikov.github.io/2016/06/24/gradient_boosting_explained.html)\n",
    "2. [Gradient Boosting Interactive Playground](http://arogozhnikov.github.io/2016/07/05/gradient_boosting_playground.html)\n",
    "3. Каноничная картинка с гольфом:\n",
    "<img src=\"pictures/golf_mse.png\" width=400 height=400 />"
   ]
  },
  {
   "cell_type": "markdown",
   "metadata": {},
   "source": [
    "## Описание алгоритма градиентного бустинга\n",
    "\n",
    "### Дано\n",
    "* Обучающая выборка: ${(x_i, s_i)}_{i=1}^l$\n",
    "* Дифференцируемая функция потерь: $L(y, z)$, где $y$ - истинный ответ, $z$ - прогноз алгоритма на некотором объекте\n",
    "    * В задаче регрессии: среднеквадратическая ошибка - $L(y,z) = (z-y)^2$\n",
    "    * В задаче классификации: логистическая функция потерь - $L(y,z) = log(1+exp(-yz))$\n",
    "* Некоторый базовый алгоритм (решающее дерево): $b_i(x)$\n",
    "\n",
    "### Инициализация\n",
    "    \n",
    "Прежде всего необходимо построить первый базовый алгоритм $b_0(x)$, он должен быть достаточно простым, например:\n",
    "* В задаче регрессии:\n",
    "    * $b_0(x) = 0$\n",
    "    * $b_0(x) = \\frac{1}{l} \\sum\\limits_{i=1}^l y_i$ - среднее по выборке\n",
    "* В задаче классификации:\n",
    "    * $b_0(x) = argmax_{y \\in Y} \\sum\\limits_{i=1}^l [y_i = y]$ - метка самого распространенного класса в выборке\n",
    "\n",
    "### Обучение\n",
    "    \n",
    "Пусть было построено $N-1$ базовых алгоритмов: $a_{N-1}(x) = \\sum\\limits_{n=1}^{N-1} b_n(x)$\n",
    "\n",
    "Добавим в композицию алгоритм $b_N(x)$, для которого должно выполняться: $\\sum\\limits_{i=1}^l L(y_i, a_{N-1}(x_i) + b(x_i)) \\rightarrow \\min\\limits_{b}$\n",
    "\n",
    "Введем **вектор сдвигов** $s = (s_1, ..., s_l) = (b_n(x_1), ..., b_n(x_l))$. Компоненты этого вектора - значения, которые должен принимать алгоритм $b_N(x)$ на объектах выборки, чтобы ошибка композиции была минимальной:\n",
    "\n",
    "$$F(s) = \\sum\\limits_{i=1}^l L(y_i, a_{N-1}(x_i) + s_i) \\rightarrow \\min\\limits_{s}$$\n",
    "\n",
    "По сути, мы решаем задачу оптимизации, в которой ищем такой ветор $s$, который будет минимизировать функцию $F(s)$. Таким образом, на каждой итерации градиентного бустинга вычисляется антиградиент функции ошибки композиции алгоритмов:\n",
    "\n",
    "$$\n",
    "\\begin{equation*}\n",
    "s = -\\nabla F = \\left(\\begin{array}{cccc}\n",
    "-L_z'(y_1, a_{N-1}(x_1)) \\\\ \\ldots \\\\ -L_z'(y_l, a_{N-1}(x_l))\n",
    "\\end{array} \\right) \n",
    "\\end{equation*}\n",
    "$$\n",
    "\n",
    "Таким образом, в композицию мы добавляем алгоритм $b_n(x) = argmin_b \\frac{1}{l} \\sum\\limits_{i=1}^l L(b(x_i), s_i)$.\n",
    "\n",
    "Обучение продолжается до тех пор, пока не выполнен **критерий останова**."
   ]
  },
  {
   "cell_type": "markdown",
   "metadata": {},
   "source": [
    "## Борьба с переобучением\n",
    "\n",
    "Есть несколько основных способов борьбы с переобучением в градиентном бустинге:\n",
    "* **Сокращение размера шага**:\n",
    "    * Вводится гиперпараметр $\\eta \\in (0, 1]$ — длина шага: $a_N(x) = a_{N-1}(x) + \\eta b_N(x)$\n",
    "* **Увеличение количества деревьев** $N$\n",
    "* **Обучение на подвыборке объектов (bagging / стохастический градиентный спуск)**"
   ]
  },
  {
   "cell_type": "markdown",
   "metadata": {},
   "source": [
    "## Литература\n",
    "\n",
    "1. Специализация \"Машинное обучение и анализ данных\" от МФТИ и Яндекса на Coursera\n",
    "2. [Дьяконов - Градиентный бустинг](https://alexanderdyakonov.files.wordpress.com/2017/06/book_boosting_pdf.pdf)\n",
    "3. [Соколов - XGboost](https://github.com/esokolov/ml-course-hse/blob/master/2018-fall/lecture-notes/lecture10-ensembles.pdf)\n",
    "4. [ИТМО - XGBoost](http://neerc.ifmo.ru/wiki/index.php?title=XGBoost&mobileaction=toggle_view_desktop#:~:text=%D0%93%D1%80%D0%B0%D0%B4%D0%B8%D0%B5%D0%BD%D1%82%D0%BD%D1%8B%D0%B9%20%D0%B1%D1%83%D1%81%D1%82%D0%B8%D0%BD%D0%B3%20%E2%80%94%20%D1%8D%D1%82%D0%BE%20%D1%82%D0%B5%D1%85%D0%BD%D0%B8%D0%BA%D0%B0%20%D0%BC%D0%B0%D1%88%D0%B8%D0%BD%D0%BD%D0%BE%D0%B3%D0%BE,%D0%B2%20%D0%BE%D1%82%D0%BB%D0%B8%D1%87%D0%B8%D0%B5%2C%20%D0%BD%D0%B0%D0%BF%D1%80%D0%B8%D0%BC%D0%B5%D1%80%20%D0%BE%D1%82%20%D0%B1%D1%8D%D0%B3%D0%B3%D0%B8%D0%BD%D0%B3%D0%B0.)\n",
    "5. [Открытый курс машинного обучения. Тема 10. Градиентный бустинг](https://habr.com/ru/company/ods/blog/327250/#1-vvedenie-i-istoriya-poyavleniya-bustinga)\n",
    "6. [CatBoost, XGBoost и выразительная способность решающих деревьев](https://habr.com/ru/company/ods/blog/645887/)"
   ]
  },
  {
   "cell_type": "markdown",
   "metadata": {},
   "source": [
    "# CatBoost vs. LightGBM vs. XGBoost\n",
    "\n",
    "### [XGBoost (eXtreme Gradient Boosting)](https://arxiv.org/abs/1603.02754)\n",
    "\n",
    "* Релиз: 2014\n",
    "* Асимметричные деревья (**разбиение вглубь - параметр max_depth**)\n",
    "* Распределенное обучение\n",
    "* Предварительная сортировка значений для вычисления наилучшего разбиения (pre-sorted algorithm & histogram-based algorithm)\n",
    "    * Значения каждого признака сортируются\n",
    "    * Значения исходного признака скалируются и поиск наилучшего разбиения проходит не по исходному значению признака, а по полученным перцентилям\n",
    "    * Наилучшее разбиение выбирается по перцентилям среди всех признаков по критерию информативности\n",
    "* Оптимизированная работа с кэшем\n",
    "* Эффективная работа с пропущенными значениями\n",
    "* Гиперпараметры для тюнинга:\n",
    "    * n_estimators\n",
    "    * max_depth\n",
    "    * min_child_weight\n",
    "\n",
    "### [LightGBM (Light Gradient Boosted Machine)](https://papers.nips.cc/paper/2017/hash/6449f44a102fde848669bdd9eb6b76fa-Abstract.html)\n",
    "\n",
    "* Релиз: 2016\n",
    "* Асимметричные деревья (**разбиение вширь - параметр num_leaves**)\n",
    "* Поиск наилучшего разбиения: Gradient-based One-Side Sampling (GOSS)\n",
    "* Условно может работать с категориальными признаками (параметр categorical_feature)\n",
    "* Гиперпараметры для тюнинга:\n",
    "    * num_leaves\n",
    "    * min_data_in_leaf\n",
    "    * max_depth\n",
    "    * max_bin\n",
    "\n",
    "### [CatBoost (Category Boosting)](https://arxiv.org/abs/1810.11363)\n",
    "\n",
    "* Релиз: 2017\n",
    "* Несмещённый упорядоченный бустинг\n",
    "* По умолчанию строятся симметричные (или сбалансированные) деревья (параметр по умолчанию grow_policy='SymmetricTree')\n",
    "* Жадный способ построения деревьев\n",
    "* Упорядоченный бустинг (параметр boosting_type='Ordered') для датасетов небольшого размера\n",
    "* Может работать с категориальными признаками при помощи упорядоченного target-кодирования (параметр one_hot_max_size)\n",
    "* Разделение ветвей не только по отдельным признакам, но и по их комбинациям (параметр max_ctr_complexity)\n",
    "* Может работать с тектовыми данными с помощью bag-of-words (параметр text_features метода fit)\n",
    "* Возможность обучения на GPU (параметр task_type='GPU' в методе fit)\n",
    "* Гиперпараметры для тюнинга:\n",
    "    * iterations\n",
    "    * depth\n",
    "    * min_data_in_leaf\n",
    "\n",
    "### Литература\n",
    "1. [Medium - CatBoost vs. Light GBM vs. XGBoost](https://towardsdatascience.com/catboost-vs-light-gbm-vs-xgboost-5f93620723db)\n",
    "2. [Medium - CatBoost vs. LightGBM vs. XGBoost](https://towardsdatascience.com/catboost-vs-lightgbm-vs-xgboost-c80f40662924)\n",
    "3. [CatBoost, XGBoost и выразительная способность решающих деревьев](https://habr.com/ru/company/ods/blog/645887/)"
   ]
  },
  {
   "cell_type": "markdown",
   "metadata": {},
   "source": [
    "### Примеры"
   ]
  },
  {
   "cell_type": "code",
   "execution_count": 1,
   "metadata": {},
   "outputs": [],
   "source": [
    "import time\n",
    "import warnings\n",
    "\n",
    "import matplotlib.pyplot as plt\n",
    "import numpy as np\n",
    "import pandas as pd\n",
    "\n",
    "from sklearn import datasets\n",
    "from sklearn import metrics\n",
    "from sklearn.model_selection import train_test_split, GridSearchCV\n",
    "from sklearn import preprocessing\n",
    "\n",
    "warnings.filterwarnings('ignore')"
   ]
  },
  {
   "cell_type": "code",
   "execution_count": 2,
   "metadata": {},
   "outputs": [],
   "source": [
    "train_df = pd.read_csv('tmp/train.csv')\n",
    "X_train = train_df.drop(columns=['Survived'])\n",
    "y_train = train_df['Survived']"
   ]
  },
  {
   "cell_type": "code",
   "execution_count": 3,
   "metadata": {},
   "outputs": [
    {
     "data": {
      "text/html": [
       "<div>\n",
       "<style scoped>\n",
       "    .dataframe tbody tr th:only-of-type {\n",
       "        vertical-align: middle;\n",
       "    }\n",
       "\n",
       "    .dataframe tbody tr th {\n",
       "        vertical-align: top;\n",
       "    }\n",
       "\n",
       "    .dataframe thead th {\n",
       "        text-align: right;\n",
       "    }\n",
       "</style>\n",
       "<table border=\"1\" class=\"dataframe\">\n",
       "  <thead>\n",
       "    <tr style=\"text-align: right;\">\n",
       "      <th></th>\n",
       "      <th>PassengerId</th>\n",
       "      <th>Survived</th>\n",
       "      <th>Pclass</th>\n",
       "      <th>Name</th>\n",
       "      <th>Sex</th>\n",
       "      <th>Age</th>\n",
       "      <th>SibSp</th>\n",
       "      <th>Parch</th>\n",
       "      <th>Ticket</th>\n",
       "      <th>Fare</th>\n",
       "      <th>Cabin</th>\n",
       "      <th>Embarked</th>\n",
       "    </tr>\n",
       "  </thead>\n",
       "  <tbody>\n",
       "    <tr>\n",
       "      <th>0</th>\n",
       "      <td>1</td>\n",
       "      <td>0</td>\n",
       "      <td>3</td>\n",
       "      <td>Braund, Mr. Owen Harris</td>\n",
       "      <td>male</td>\n",
       "      <td>22.0</td>\n",
       "      <td>1</td>\n",
       "      <td>0</td>\n",
       "      <td>A/5 21171</td>\n",
       "      <td>7.2500</td>\n",
       "      <td>NaN</td>\n",
       "      <td>S</td>\n",
       "    </tr>\n",
       "    <tr>\n",
       "      <th>1</th>\n",
       "      <td>2</td>\n",
       "      <td>1</td>\n",
       "      <td>1</td>\n",
       "      <td>Cumings, Mrs. John Bradley (Florence Briggs Th...</td>\n",
       "      <td>female</td>\n",
       "      <td>38.0</td>\n",
       "      <td>1</td>\n",
       "      <td>0</td>\n",
       "      <td>PC 17599</td>\n",
       "      <td>71.2833</td>\n",
       "      <td>C85</td>\n",
       "      <td>C</td>\n",
       "    </tr>\n",
       "    <tr>\n",
       "      <th>2</th>\n",
       "      <td>3</td>\n",
       "      <td>1</td>\n",
       "      <td>3</td>\n",
       "      <td>Heikkinen, Miss. Laina</td>\n",
       "      <td>female</td>\n",
       "      <td>26.0</td>\n",
       "      <td>0</td>\n",
       "      <td>0</td>\n",
       "      <td>STON/O2. 3101282</td>\n",
       "      <td>7.9250</td>\n",
       "      <td>NaN</td>\n",
       "      <td>S</td>\n",
       "    </tr>\n",
       "    <tr>\n",
       "      <th>3</th>\n",
       "      <td>4</td>\n",
       "      <td>1</td>\n",
       "      <td>1</td>\n",
       "      <td>Futrelle, Mrs. Jacques Heath (Lily May Peel)</td>\n",
       "      <td>female</td>\n",
       "      <td>35.0</td>\n",
       "      <td>1</td>\n",
       "      <td>0</td>\n",
       "      <td>113803</td>\n",
       "      <td>53.1000</td>\n",
       "      <td>C123</td>\n",
       "      <td>S</td>\n",
       "    </tr>\n",
       "    <tr>\n",
       "      <th>4</th>\n",
       "      <td>5</td>\n",
       "      <td>0</td>\n",
       "      <td>3</td>\n",
       "      <td>Allen, Mr. William Henry</td>\n",
       "      <td>male</td>\n",
       "      <td>35.0</td>\n",
       "      <td>0</td>\n",
       "      <td>0</td>\n",
       "      <td>373450</td>\n",
       "      <td>8.0500</td>\n",
       "      <td>NaN</td>\n",
       "      <td>S</td>\n",
       "    </tr>\n",
       "  </tbody>\n",
       "</table>\n",
       "</div>"
      ],
      "text/plain": [
       "   PassengerId  Survived  Pclass  \\\n",
       "0            1         0       3   \n",
       "1            2         1       1   \n",
       "2            3         1       3   \n",
       "3            4         1       1   \n",
       "4            5         0       3   \n",
       "\n",
       "                                                Name     Sex   Age  SibSp  \\\n",
       "0                            Braund, Mr. Owen Harris    male  22.0      1   \n",
       "1  Cumings, Mrs. John Bradley (Florence Briggs Th...  female  38.0      1   \n",
       "2                             Heikkinen, Miss. Laina  female  26.0      0   \n",
       "3       Futrelle, Mrs. Jacques Heath (Lily May Peel)  female  35.0      1   \n",
       "4                           Allen, Mr. William Henry    male  35.0      0   \n",
       "\n",
       "   Parch            Ticket     Fare Cabin Embarked  \n",
       "0      0         A/5 21171   7.2500   NaN        S  \n",
       "1      0          PC 17599  71.2833   C85        C  \n",
       "2      0  STON/O2. 3101282   7.9250   NaN        S  \n",
       "3      0            113803  53.1000  C123        S  \n",
       "4      0            373450   8.0500   NaN        S  "
      ]
     },
     "execution_count": 3,
     "metadata": {},
     "output_type": "execute_result"
    }
   ],
   "source": [
    "train_df.head()"
   ]
  },
  {
   "cell_type": "code",
   "execution_count": 4,
   "metadata": {},
   "outputs": [],
   "source": [
    "text_features = ['Name', 'Ticket', 'Cabin']\n",
    "\n",
    "X_train = X_train.drop(columns=text_features)"
   ]
  },
  {
   "cell_type": "code",
   "execution_count": 5,
   "metadata": {},
   "outputs": [],
   "source": [
    "cat_features = ['Sex', 'Embarked']\n",
    "\n",
    "for feat in cat_features:\n",
    "    X_train[feat] = X_train[feat].astype('category')"
   ]
  },
  {
   "cell_type": "markdown",
   "metadata": {},
   "source": [
    "### XGBoost"
   ]
  },
  {
   "cell_type": "code",
   "execution_count": 6,
   "metadata": {},
   "outputs": [],
   "source": [
    "import xgboost as xgb"
   ]
  },
  {
   "cell_type": "code",
   "execution_count": 7,
   "metadata": {},
   "outputs": [
    {
     "name": "stdout",
     "output_type": "stream",
     "text": [
      "Fitting 3 folds for each of 27 candidates, totalling 81 fits\n"
     ]
    },
    {
     "name": "stderr",
     "output_type": "stream",
     "text": [
      "[Parallel(n_jobs=-1)]: Using backend LokyBackend with 8 concurrent workers.\n",
      "[Parallel(n_jobs=-1)]: Done   2 tasks      | elapsed:    2.7s\n",
      "[Parallel(n_jobs=-1)]: Done   9 tasks      | elapsed:    3.6s\n",
      "[Parallel(n_jobs=-1)]: Done  16 tasks      | elapsed:    4.0s\n",
      "[Parallel(n_jobs=-1)]: Done  25 tasks      | elapsed:    5.5s\n",
      "[Parallel(n_jobs=-1)]: Done  34 tasks      | elapsed:    6.8s\n",
      "[Parallel(n_jobs=-1)]: Done  45 tasks      | elapsed:    8.4s\n",
      "[Parallel(n_jobs=-1)]: Done  56 tasks      | elapsed:    9.8s\n",
      "[Parallel(n_jobs=-1)]: Done  75 out of  81 | elapsed:   12.5s remaining:    1.0s\n",
      "[Parallel(n_jobs=-1)]: Done  81 out of  81 | elapsed:   13.1s finished\n"
     ]
    },
    {
     "data": {
      "text/plain": [
       "XGBClassifier(base_score=0.5, booster='gbtree', callbacks=None,\n",
       "              colsample_bylevel=1, colsample_bynode=1, colsample_bytree=1,\n",
       "              early_stopping_rounds=None, enable_categorical=False,\n",
       "              eval_metric=None, gamma=0, gpu_id=-1, grow_policy='depthwise',\n",
       "              importance_type=None, interaction_constraints='',\n",
       "              learning_rate=0.05, max_bin=256, max_cat_to_onehot=4,\n",
       "              max_delta_step=0, max_depth=10, max_leaves=0, min_child_weight=6,\n",
       "              missing=nan, monotone_constraints='()', n_estimators=200,\n",
       "              n_jobs=0, num_parallel_tree=1, predictor='auto', random_state=0,\n",
       "              reg_alpha=0, reg_lambda=1, ...)"
      ]
     },
     "execution_count": 7,
     "metadata": {},
     "output_type": "execute_result"
    }
   ],
   "source": [
    "model = xgb.XGBClassifier()\n",
    "\n",
    "param_dist = {\"max_depth\": [10, 30, 50],\n",
    "              \"min_child_weight\" : [1, 3, 6],\n",
    "              \"n_estimators\": [200],\n",
    "              \"learning_rate\": [0.05, 0.1, 0.16]}\n",
    "\n",
    "grid_search = GridSearchCV(model,\n",
    "                           param_grid=param_dist,\n",
    "                           cv=3,\n",
    "                           verbose=10,\n",
    "                           n_jobs=-1)\n",
    "\n",
    "grid_search.fit(X_train.drop(columns=cat_features), y_train)\n",
    "grid_search.best_estimator_"
   ]
  },
  {
   "cell_type": "code",
   "execution_count": 8,
   "metadata": {},
   "outputs": [
    {
     "data": {
      "text/plain": [
       "0.9583586318558996"
      ]
     },
     "execution_count": 8,
     "metadata": {},
     "output_type": "execute_result"
    }
   ],
   "source": [
    "model = grid_search.best_estimator_\n",
    "model.fit(X_train.drop(columns=cat_features), y_train)\n",
    "train_proba = model.predict_proba(X_train.drop(columns=cat_features))\n",
    "metrics.roc_auc_score(y_train, train_proba[:, 1])"
   ]
  },
  {
   "cell_type": "markdown",
   "metadata": {},
   "source": [
    "### Light GBM"
   ]
  },
  {
   "cell_type": "code",
   "execution_count": 9,
   "metadata": {},
   "outputs": [],
   "source": [
    "import lightgbm as lgb"
   ]
  },
  {
   "cell_type": "code",
   "execution_count": 10,
   "metadata": {},
   "outputs": [
    {
     "name": "stdout",
     "output_type": "stream",
     "text": [
      "Fitting 3 folds for each of 27 candidates, totalling 81 fits\n"
     ]
    },
    {
     "name": "stderr",
     "output_type": "stream",
     "text": [
      "[Parallel(n_jobs=-1)]: Using backend LokyBackend with 8 concurrent workers.\n",
      "[Parallel(n_jobs=-1)]: Done   2 tasks      | elapsed:    0.4s\n",
      "[Parallel(n_jobs=-1)]: Done   9 tasks      | elapsed:    0.7s\n",
      "[Parallel(n_jobs=-1)]: Done  16 tasks      | elapsed:    1.0s\n",
      "[Parallel(n_jobs=-1)]: Done  25 tasks      | elapsed:    1.4s\n",
      "[Parallel(n_jobs=-1)]: Done  34 tasks      | elapsed:    1.7s\n",
      "[Parallel(n_jobs=-1)]: Done  45 tasks      | elapsed:    2.1s\n",
      "[Parallel(n_jobs=-1)]: Done  56 tasks      | elapsed:    2.6s\n",
      "[Parallel(n_jobs=-1)]: Done  75 out of  81 | elapsed:    3.3s remaining:    0.3s\n",
      "[Parallel(n_jobs=-1)]: Done  81 out of  81 | elapsed:    3.5s finished\n"
     ]
    },
    {
     "data": {
      "text/plain": [
       "LGBMClassifier(learning_rate=0.01, max_depth=25, n_estimators=200,\n",
       "               num_leaves=300, silent=False)"
      ]
     },
     "execution_count": 10,
     "metadata": {},
     "output_type": "execute_result"
    }
   ],
   "source": [
    "lg = lgb.LGBMClassifier(silent=False)\n",
    "\n",
    "param_dist = {\"max_depth\": [25, 50, 75],\n",
    "              \"learning_rate\" : [0.01, 0.05, 0.1],\n",
    "              \"num_leaves\": [300, 900, 1200],\n",
    "              \"n_estimators\": [200]}\n",
    "\n",
    "grid_search = GridSearchCV(lg,\n",
    "                           param_grid=param_dist,\n",
    "                           n_jobs=-1,\n",
    "                           cv=3,\n",
    "                           scoring=\"roc_auc\",\n",
    "                           verbose=10)\n",
    "\n",
    "grid_search.fit(X_train, y_train)\n",
    "grid_search.best_estimator_"
   ]
  },
  {
   "cell_type": "code",
   "execution_count": 11,
   "metadata": {},
   "outputs": [],
   "source": [
    "params = {\"max_depth\": 250,\n",
    "          \"learning_rate\": 0.01,\n",
    "          \"num_leaves\": 900,  \n",
    "          \"n_estimators\": 300}"
   ]
  },
  {
   "cell_type": "code",
   "execution_count": 12,
   "metadata": {},
   "outputs": [
    {
     "data": {
      "text/plain": [
       "0.9427640899455683"
      ]
     },
     "execution_count": 12,
     "metadata": {},
     "output_type": "execute_result"
    }
   ],
   "source": [
    "d_train = lgb.Dataset(X_train.drop(columns=cat_features),\n",
    "                      label=y_train,\n",
    "                      free_raw_data=False)\n",
    "\n",
    "# Without Categorical Features\n",
    "model = lgb.train(params, d_train)\n",
    "predict = model.predict(X_train.drop(columns=cat_features))\n",
    "metrics.roc_auc_score(y_train, predict)"
   ]
  },
  {
   "cell_type": "code",
   "execution_count": 13,
   "metadata": {},
   "outputs": [
    {
     "data": {
      "text/plain": [
       "0.9678389203123169"
      ]
     },
     "execution_count": 13,
     "metadata": {},
     "output_type": "execute_result"
    }
   ],
   "source": [
    "d_train = lgb.Dataset(X_train,\n",
    "                      label=y_train,\n",
    "                      categorical_feature=cat_features,\n",
    "                      free_raw_data=False)\n",
    "\n",
    "# With Categorical Features\n",
    "model = lgb.train(params, d_train)\n",
    "predict = model.predict(X_train)\n",
    "metrics.roc_auc_score(y_train, predict)"
   ]
  },
  {
   "cell_type": "markdown",
   "metadata": {},
   "source": [
    "### CatBoost"
   ]
  },
  {
   "cell_type": "code",
   "execution_count": 14,
   "metadata": {},
   "outputs": [],
   "source": [
    "import catboost as cb"
   ]
  },
  {
   "cell_type": "code",
   "execution_count": 15,
   "metadata": {},
   "outputs": [],
   "source": [
    "cate_features_index = np.where(X_train.dtypes != float)[0]\n",
    "\n",
    "for feat in cat_features:\n",
    "    X_train[feat] = X_train[feat].astype(str)"
   ]
  },
  {
   "cell_type": "code",
   "execution_count": 20,
   "metadata": {},
   "outputs": [],
   "source": [
    "params = {'depth': [4, 7, 10],\n",
    "          'learning_rate' : [0.03, 0.1, 0.15],\n",
    "          'l2_leaf_reg': [1, 4, 9],\n",
    "          'iterations': [30]}\n",
    "\n",
    "model = cb.CatBoostClassifier(eval_metric='Accuracy', random_seed=42)\n",
    "\n",
    "train_pool = cb.Pool(X_train, y_train, cat_features=cat_features)\n",
    "\n",
    "grid_search_results = model.grid_search(params, train_pool, shuffle=False)"
   ]
  },
  {
   "cell_type": "code",
   "execution_count": 18,
   "metadata": {},
   "outputs": [
    {
     "name": "stdout",
     "output_type": "stream",
     "text": [
      "0:\ttotal: 489us\tremaining: 24ms\n",
      "1:\ttotal: 3.36ms\tremaining: 80.7ms\n",
      "2:\ttotal: 4.76ms\tremaining: 74.7ms\n",
      "3:\ttotal: 5.51ms\tremaining: 63.3ms\n",
      "4:\ttotal: 5.97ms\tremaining: 53.8ms\n",
      "5:\ttotal: 6.5ms\tremaining: 47.7ms\n",
      "6:\ttotal: 7.16ms\tremaining: 44ms\n",
      "7:\ttotal: 8.07ms\tremaining: 42.4ms\n",
      "8:\ttotal: 12.6ms\tremaining: 57.4ms\n",
      "9:\ttotal: 16.9ms\tremaining: 67.4ms\n",
      "10:\ttotal: 17.4ms\tremaining: 61.5ms\n",
      "11:\ttotal: 22.1ms\tremaining: 69.9ms\n",
      "12:\ttotal: 26.8ms\tremaining: 76.4ms\n",
      "13:\ttotal: 29.9ms\tremaining: 76.9ms\n",
      "14:\ttotal: 31.9ms\tremaining: 74.5ms\n",
      "15:\ttotal: 37.1ms\tremaining: 78.8ms\n",
      "16:\ttotal: 43.2ms\tremaining: 83.9ms\n",
      "17:\ttotal: 48.2ms\tremaining: 85.6ms\n",
      "18:\ttotal: 48.8ms\tremaining: 79.7ms\n",
      "19:\ttotal: 54.2ms\tremaining: 81.3ms\n",
      "20:\ttotal: 65.4ms\tremaining: 90.4ms\n",
      "21:\ttotal: 81.4ms\tremaining: 104ms\n",
      "22:\ttotal: 87.4ms\tremaining: 103ms\n",
      "23:\ttotal: 93.5ms\tremaining: 101ms\n",
      "24:\ttotal: 99ms\tremaining: 99ms\n",
      "25:\ttotal: 99.6ms\tremaining: 91.9ms\n",
      "26:\ttotal: 103ms\tremaining: 87.6ms\n",
      "27:\ttotal: 110ms\tremaining: 86.3ms\n",
      "28:\ttotal: 118ms\tremaining: 85.1ms\n",
      "29:\ttotal: 124ms\tremaining: 82.7ms\n",
      "30:\ttotal: 129ms\tremaining: 79.2ms\n",
      "31:\ttotal: 136ms\tremaining: 76.8ms\n",
      "32:\ttotal: 143ms\tremaining: 73.6ms\n",
      "33:\ttotal: 144ms\tremaining: 67.8ms\n",
      "34:\ttotal: 150ms\tremaining: 64.4ms\n",
      "35:\ttotal: 157ms\tremaining: 60.9ms\n",
      "36:\ttotal: 162ms\tremaining: 56.8ms\n",
      "37:\ttotal: 167ms\tremaining: 52.6ms\n",
      "38:\ttotal: 169ms\tremaining: 47.6ms\n",
      "39:\ttotal: 175ms\tremaining: 43.7ms\n",
      "40:\ttotal: 175ms\tremaining: 38.5ms\n",
      "41:\ttotal: 176ms\tremaining: 33.5ms\n",
      "42:\ttotal: 181ms\tremaining: 29.4ms\n",
      "43:\ttotal: 186ms\tremaining: 25.4ms\n",
      "44:\ttotal: 192ms\tremaining: 21.3ms\n",
      "45:\ttotal: 197ms\tremaining: 17.1ms\n",
      "46:\ttotal: 203ms\tremaining: 12.9ms\n",
      "47:\ttotal: 208ms\tremaining: 8.67ms\n",
      "48:\ttotal: 214ms\tremaining: 4.36ms\n",
      "49:\ttotal: 220ms\tremaining: 0us\n"
     ]
    },
    {
     "data": {
      "text/plain": [
       "0.8027274470328828"
      ]
     },
     "execution_count": 18,
     "metadata": {},
     "output_type": "execute_result"
    }
   ],
   "source": [
    "# With Categorical features\n",
    "clf = cb.CatBoostClassifier(eval_metric=\"AUC\",\n",
    "                            depth=10, \n",
    "                            iterations=50,\n",
    "                            l2_leaf_reg=9, \n",
    "                            learning_rate=0.15)\n",
    "\n",
    "clf.fit(X_train, y_train, cat_features=cate_features_index)\n",
    "predict = clf.predict(X_train)\n",
    "metrics.roc_auc_score(y_train, predict)"
   ]
  },
  {
   "cell_type": "code",
   "execution_count": 19,
   "metadata": {},
   "outputs": [
    {
     "name": "stdout",
     "output_type": "stream",
     "text": [
      "0:\ttotal: 1.84ms\tremaining: 90ms\n",
      "1:\ttotal: 2.63ms\tremaining: 63.1ms\n",
      "2:\ttotal: 3.37ms\tremaining: 52.8ms\n",
      "3:\ttotal: 8.52ms\tremaining: 98ms\n",
      "4:\ttotal: 9.2ms\tremaining: 82.8ms\n",
      "5:\ttotal: 13.9ms\tremaining: 102ms\n",
      "6:\ttotal: 19.1ms\tremaining: 117ms\n",
      "7:\ttotal: 21.3ms\tremaining: 112ms\n",
      "8:\ttotal: 26.3ms\tremaining: 120ms\n",
      "9:\ttotal: 31.3ms\tremaining: 125ms\n",
      "10:\ttotal: 33.2ms\tremaining: 118ms\n",
      "11:\ttotal: 37.6ms\tremaining: 119ms\n",
      "12:\ttotal: 40.4ms\tremaining: 115ms\n",
      "13:\ttotal: 41.2ms\tremaining: 106ms\n",
      "14:\ttotal: 42ms\tremaining: 98.1ms\n",
      "15:\ttotal: 42.7ms\tremaining: 90.8ms\n",
      "16:\ttotal: 46.9ms\tremaining: 91.1ms\n",
      "17:\ttotal: 47.9ms\tremaining: 85.1ms\n",
      "18:\ttotal: 48.3ms\tremaining: 78.8ms\n",
      "19:\ttotal: 52.5ms\tremaining: 78.7ms\n",
      "20:\ttotal: 56.6ms\tremaining: 78.1ms\n",
      "21:\ttotal: 57.3ms\tremaining: 72.9ms\n",
      "22:\ttotal: 61.6ms\tremaining: 72.4ms\n",
      "23:\ttotal: 66.7ms\tremaining: 72.3ms\n",
      "24:\ttotal: 70.6ms\tremaining: 70.6ms\n",
      "25:\ttotal: 71ms\tremaining: 65.6ms\n",
      "26:\ttotal: 74.6ms\tremaining: 63.6ms\n",
      "27:\ttotal: 78.2ms\tremaining: 61.4ms\n",
      "28:\ttotal: 81.9ms\tremaining: 59.3ms\n",
      "29:\ttotal: 85.6ms\tremaining: 57.1ms\n",
      "30:\ttotal: 89.3ms\tremaining: 54.7ms\n",
      "31:\ttotal: 91.3ms\tremaining: 51.4ms\n",
      "32:\ttotal: 94.8ms\tremaining: 48.8ms\n",
      "33:\ttotal: 97ms\tremaining: 45.7ms\n",
      "34:\ttotal: 101ms\tremaining: 43.1ms\n",
      "35:\ttotal: 105ms\tremaining: 40.7ms\n",
      "36:\ttotal: 108ms\tremaining: 38ms\n",
      "37:\ttotal: 112ms\tremaining: 35.3ms\n",
      "38:\ttotal: 113ms\tremaining: 31.7ms\n",
      "39:\ttotal: 116ms\tremaining: 29ms\n",
      "40:\ttotal: 120ms\tremaining: 26.4ms\n",
      "41:\ttotal: 124ms\tremaining: 23.6ms\n",
      "42:\ttotal: 128ms\tremaining: 20.8ms\n",
      "43:\ttotal: 128ms\tremaining: 17.5ms\n",
      "44:\ttotal: 132ms\tremaining: 14.7ms\n",
      "45:\ttotal: 136ms\tremaining: 11.8ms\n",
      "46:\ttotal: 140ms\tremaining: 8.95ms\n",
      "47:\ttotal: 144ms\tremaining: 6.01ms\n",
      "48:\ttotal: 148ms\tremaining: 3.02ms\n",
      "49:\ttotal: 152ms\tremaining: 0us\n"
     ]
    },
    {
     "data": {
      "text/plain": [
       "0.8314159716230467"
      ]
     },
     "execution_count": 19,
     "metadata": {},
     "output_type": "execute_result"
    }
   ],
   "source": [
    "# With Categorical features\n",
    "clf = cb.CatBoostClassifier(eval_metric=\"AUC\",\n",
    "                            one_hot_max_size=31,\n",
    "                            depth=10,\n",
    "                            iterations=50,\n",
    "                            l2_leaf_reg=9, \n",
    "                            learning_rate=0.15)\n",
    "\n",
    "clf.fit(X_train, y_train, cat_features=cate_features_index)\n",
    "predict = clf.predict(X_train)\n",
    "metrics.roc_auc_score(y_train, predict)"
   ]
  }
 ],
 "metadata": {
  "kernelspec": {
   "display_name": "Python 3",
   "language": "python",
   "name": "python3"
  },
  "language_info": {
   "codemirror_mode": {
    "name": "ipython",
    "version": 3
   },
   "file_extension": ".py",
   "mimetype": "text/x-python",
   "name": "python",
   "nbconvert_exporter": "python",
   "pygments_lexer": "ipython3",
   "version": "3.8.3"
  }
 },
 "nbformat": 4,
 "nbformat_minor": 4
}
