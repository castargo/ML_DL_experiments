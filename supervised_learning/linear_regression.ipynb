{
 "cells": [
  {
   "cell_type": "markdown",
   "metadata": {},
   "source": [
    "# Линейная регрессия"
   ]
  },
  {
   "cell_type": "markdown",
   "metadata": {},
   "source": [
    "## Литература\n",
    "\n",
    "* [Открытый курс машинного обучения. Тема 4. Линейные модели классификации и регрессии](https://habr.com/ru/company/ods/blog/323890/)\n",
    "* [Wiki - Линейная регрессия](https://ru.wikipedia.org/wiki/%D0%9B%D0%B8%D0%BD%D0%B5%D0%B9%D0%BD%D0%B0%D1%8F_%D1%80%D0%B5%D0%B3%D1%80%D0%B5%D1%81%D1%81%D0%B8%D1%8F)\n",
    "* [Linear Regression using Gradient Descent](https://towardsdatascience.com/linear-regression-using-gradient-descent-97a6c8700931)"
   ]
  },
  {
   "cell_type": "markdown",
   "metadata": {},
   "source": [
    "## Теория\n",
    "\n",
    "**Линейная регрессия** — регрессионная модель зависимости одной (объясняемой, зависимой) переменной $y$ от одной или нескольких других переменных (факторов, регрессоров, независимых переменных) $x$ с линейной функцией зависимости. По сути, линейная модель регрессии представляет из себя взвешенную сумму всех признаков. Линейная регрессия позволяет прогнозировать значения количественного признака в виде линейной комбинации прочих признаков с параметрами - весами модели. Оптимальные (в смысле минимальности некоторого функционала ошибки) параметры линейной регрессии можно найти аналитически с помощью нормального уравнения или численно с помощью методов оптимизации.\n",
    "\n",
    "### Задача\n",
    "\n",
    "* Множество объектов-ответов\n",
    "    * Каждый объект описан множеством объясняющих факторов: $x_j$\n",
    "    * Каждый объект имеет соответствующую целевую (объясняемую) переменную: $y \\in \\mathbb{R}$\n",
    "    * Объясняемая переменная может быть вычислена из объясняющих факторов:\n",
    "\n",
    "$$\\vec y = f(\\vec x) = w_0 + \\sum_{j = 1}^{m} w_j x_j$$\n",
    "\n",
    "где \n",
    "* $w_0$ - свободный коэффициент (intercept)\n",
    "* $w_j$ - веса признаков\n",
    "\n",
    "Если добавить фиктивную размерность $x_0 = 1$ для каждого объекта, тогда можно будет поместить $w_0$ под знак суммы:\n",
    "\n",
    "$$\\vec y = \\sum_{j = 0}^{m} w_j x_j = \\vec{w}^T \\vec{x}_i = \\langle w, x \\rangle$$\n",
    "\n",
    "Мы можем рассматривать полученный результат как матрицу объектов-признаков, если добавим к ней единичную колонку:\n",
    "\n",
    "$$\\vec y = X \\vec w + \\epsilon$$\n",
    "\n",
    "или для одного объекта:\n",
    "\n",
    "$$y_i = \\sum_{j = 0}^{m} X_{i,j} w_j + \\epsilon_i$$\n",
    "\n",
    "Где:\n",
    "* $\\vec y \\in \\mathbb{R}^n$ – объясняемая (целевая) переменная;\n",
    "* $w$ – вектор параметров модели (веса);\n",
    "* $X$ – матрица наблюдений и признаков размерности $n$ строк на $m + 1$ столбцов (с фиктивной единичной колонкой),  $\\text{rank}\\left(X\\right) = m + 1$;\n",
    "* $\\epsilon$ – случайная переменная, соответствующая случайной, непрогнозируемой ошибке модели.\n",
    "\n",
    "Также на модель накладываются следующие **ограничения** (иначе это будет какая то другая регрессия, но точно не линейная):\n",
    "* мат ожидание случайных ошибок равно нулю: $\\forall i: \\mathbb{E}\\left[\\epsilon_i\\right] = 0$;\n",
    "* дисперсия случайных ошибок одинакова и конечна (свойство гомоскедастичности): $\\forall i: \\text{Var}\\left(\\epsilon_i\\right) = \\sigma^2 < \\infty$;\n",
    "* случайные ошибки не скоррелированы: $\\forall i \\neq j: \\text{Cov}\\left(\\epsilon_i, \\epsilon_j\\right) = 0$.\n",
    "\n",
    "Оценка $\\hat{w}_i$ весов $w_i$ называется линейной, если $\\hat{w}_i = \\omega_{1i}y_1 + \\omega_{2i}y_2 + \\cdots + \\omega_{ni}y_n,$ где $\\forall\\ k\\ \\omega_{ki}$ зависит только от наблюдаемых данных $X$ и почти наверняка нелинейно. Так как решением задачи поиска оптимальных весов будет именно **линейная оценка**, то и модель называется линейной регрессией. \n",
    "\n",
    "Оценка $\\hat{w}_i$ называется несмещенной тогда, когда матожидание оценки равно реальному, но неизвестному значению оцениваемого параметра: $\\mathbb{E}\\left[\\hat{w}_i\\right] = w_i$"
   ]
  },
  {
   "cell_type": "markdown",
   "metadata": {},
   "source": [
    "### Аналитическое решение\n",
    "\n",
    "Для вычисления параметров модели вводится функционал ошибки - среднеквадратическая ошибка:\n",
    "\n",
    "$$\\mathcal{L}\\left(X, \\vec{y}, \\vec{w} \\right) = \\frac{1}{2n} \\sum_{i=1}^n (\\langle w, x_i \\rangle - y_i)^2$$\n",
    "\n",
    "Минимизируем среднеквадратичную ошибку между реальным значением зависимой переменной и прогнозом, выданным моделью, при помощи **метода наименьших квадратов (МНК)**:\n",
    "\n",
    "$$\\mathcal{L}\\left(X, \\vec{y}, \\vec{w} \\right) \\rightarrow \\min\\limits_{w}$$\n",
    "\n",
    "Таким образом:\n",
    "\n",
    "$$\\begin{array}{rcl}\\mathcal{L}\\left(X, \\vec{y}, \\vec{w} \\right) &=& \\frac{1}{2n} \\sum_{i=1}^n \\left(y_i - \\vec{w}^T \\vec{x}_i\\right)^2 \\\\ &=& \\frac{1}{2n} \\left\\| \\vec{y} - X \\vec{w} \\right\\|_2^2 \\\\ &=& \\frac{1}{2n} \\left(\\vec{y} - X \\vec{w}\\right)^T \\left(\\vec{y} - X \\vec{w}\\right) \\end{array}$$\n",
    "\n",
    "Для решения данной оптимизационной задачи необходимо вычислить производную $\\frac{\\partial \\mathcal{L}}{\\partial \\vec{w}}$ по параметрам модели, приравнять ее к нулю и решить полученное уравнение относительно $\\vec w$:\n",
    "\n",
    "$$\\begin{array}{rcl} \\frac{\\partial \\mathcal{L}}{\\partial \\vec{w}} &=& \\frac{\\partial}{\\partial \\vec{w}} \\frac{1}{2n} \\left( \\vec{y}^T \\vec{y} -2\\vec{y}^T X \\vec{w} + \\vec{w}^T X^T X \\vec{w}\\right) \\\\ &=& \\frac{1}{2n} \\left(-2 X^T \\vec{y} + 2X^T X \\vec{w}\\right) \\end{array}$$\n",
    "\n",
    "$$\\begin{array}{rcl} \\frac{\\partial \\mathcal{L}}{\\partial \\vec{w}} = 0 &\\Leftrightarrow& \\frac{1}{2n} \\left(-2 X^T \\vec{y} + 2X^T X \\vec{w}\\right) = 0 \\\\ &\\Leftrightarrow& -X^T \\vec{y} + X^T X \\vec{w} = 0 \\\\ &\\Leftrightarrow& X^T X \\vec{w} = X^T \\vec{y} \\\\ &\\Leftrightarrow& \\vec{w} = \\left(X^T X\\right)^{-1} X^T \\vec{y} \\end{array}$$\n",
    "\n",
    "Теперь, опираясь на теорему Маркова-Гаусса, мы можем утверждать, что оценка МНК является лучшей оценкой параметров модели, среди всех линейных и несмещенных оценок, то есть обладающей наименьшей дисперсией:\n",
    "\n",
    "$$\\hat{\\vec{w}} = (X^T X)^{-1} X^T \\vec y$$\n",
    "\n",
    "Но почему мы минимизируем среднеквадратичную ошибку, а не что-то другое? Ведь можно минимизировать среднее абсолютное значение невязки или еще что-то. Единственное, что произойдёт в случае изменения минимизируемого значения, так это то, что мы выйдем из условий теоремы Маркова-Гаусса, и наши оценки перестанут быть лучшими среди линейных и несмещенных.\n",
    "\n",
    "Это все из-за того, что минимизация среднеквадратичной ошибки – это то же самое, что и максимизация правдоподобия данных. Мы хотим найти гипотезу максимального правдоподобия, т.е. нам нужно максимизировать выражение $p\\left(\\vec{y} \\mid X, \\vec{w}\\right)$:\n",
    "\n",
    "$$\\begin{array}{rcl} \\hat{\\vec{w}} &=& \\arg \\max_{w} p\\left(\\vec{y} \\mid X, \\vec{w}\\right) \\\\ &=& \\arg \\max_{w} -\\frac{n}{2}\\log 2\\pi\\sigma^2 -\\frac{1}{2\\sigma^2} \\sum_{i=1}^n \\left(y_i - \\vec{w}^T \\vec{x}_i\\right)^2 \\\\ &=& \\arg \\max_{w} -\\frac{1}{2\\sigma^2} \\sum_{i=1}^n \\left(y_i - \\vec{w}^T \\vec{x}_i\\right)^2 \\\\ &=& \\arg \\max_{w} -\\mathcal{L}\\left(X, \\vec{y}, \\vec{w} \\right) \\end{array}$$\n",
    "\n",
    "Именно MSE является следствием того, что ошибка распределена нормально, а не как-то по-другому. Кроме того, зная этот факт, мы можем использовать в задачах свойства метода максимального правдоподобия, например, используя асимптотическую нормлаьность, можно определять значимость признаков в модели и делать их отбор. Также можно строить доверительные интервалы для значения отклика на новых объектах, которых нет в обучающей выборке."
   ]
  },
  {
   "cell_type": "markdown",
   "metadata": {},
   "source": [
    "### Численное решение\n",
    "\n",
    "Основную сложность при нахождении решения аналитическим способом представляет вычисление обратной матрицы - это достаточно вычислительно сложная задача. Поэтому на практике применяются численные методы оптимизации.\n",
    "\n",
    "Свойства MSE-функции:\n",
    "* Функция является гладкой (существует градиент в каждой точке)\n",
    "* Функция является выпуклой (существует лишь один минимум)\n",
    "\n",
    "Благодаря этим свойствам для нахождения численного решения мы можем использовать **алгоритм градиентного спуска**:\n",
    "\n",
    "1. Задать начальное приближение вектору весов $w^{(0)}$.\n",
    "2. Повторяем до наступления сходимости (например, $||w^{(t)} - w^{(t-1)}|| < \\epsilon$):\n",
    "\n",
    "    На каждой следующей следующей итерации ($t = 1, 2, 3, ...$) из приближения, полученного на предыдущей итерации $w^{t-1}$, вычитается вектор градиента в соответствующей точке $w^{t-1}$, умноженный на коэффициент скорости обучения $\\eta_t$ (learning rate):\n",
    "$$w^{(t)} = w^{(t-1)} - \\eta_t \\nabla \\mathcal{L}\\left(X, \\vec{y}, w^{(t-1)} \\right) = \\frac{\\eta_t}{n} \\sum_{i=1}^n \\nabla \\mathcal{L}_i\\left(x_i, y_i, w^{(t-1)} \\right) = \\frac{\\eta_t}{n} \\sum_{i=1}^n x_i^j (\\langle w, x_i \\rangle - y_i)$$"
   ]
  },
  {
   "cell_type": "markdown",
   "metadata": {},
   "source": [
    "### [Реализация парной линейной регрессии](https://towardsdatascience.com/linear-regression-using-gradient-descent-97a6c8700931)"
   ]
  },
  {
   "cell_type": "code",
   "execution_count": 1,
   "metadata": {},
   "outputs": [],
   "source": [
    "import numpy as np\n",
    "import pandas as pd\n",
    "\n",
    "import matplotlib.pyplot as plt\n",
    "\n",
    "from sklearn.linear_model import LinearRegression"
   ]
  },
  {
   "cell_type": "markdown",
   "metadata": {},
   "source": [
    "Пусть $\\vec y = m X + c$. Параметры модели - веса $m, c$. В выборке имеется $n$ объектов.\n",
    "\n",
    "Среднеквадратическая ошибка для модели: \n",
    "\n",
    "$$\\mathcal{L}\\left(X, \\vec{y}, m, c \\right) = \\frac{1}{2n} \\sum_{i=1}^n (m x_i + c - y_i)^2 \\rightarrow \\min\\limits_{m, c}$$\n",
    "\n",
    "Формула вычисления частных производных по весам $m, c$:\n",
    "\n",
    "$$\\frac{\\partial \\mathcal{L}}{\\partial m} = \\frac{1}{n} \\sum_{i=1}^n (m x_i + c - y_i)x_i$$ \n",
    "$$\\frac{\\partial \\mathcal{L}}{\\partial c} = \\frac{1}{n} \\sum_{i=1}^n (m x_i + c - y_i)$$"
   ]
  },
  {
   "cell_type": "code",
   "execution_count": 2,
   "metadata": {},
   "outputs": [],
   "source": [
    "# Генерация случайного набора данных\n",
    "np.random.seed(0)\n",
    "n = 100\n",
    "X = np.random.rand(n, 1)\n",
    "y = 2 + 5 * X + np.random.rand(n, 1)"
   ]
  },
  {
   "cell_type": "code",
   "execution_count": 3,
   "metadata": {},
   "outputs": [
    {
     "data": {
      "image/png": "[encoded data removed]",
      "text/plain": [
       "<Figure size 576x360 with 1 Axes>"
      ]
     },
     "metadata": {
      "needs_background": "light"
     },
     "output_type": "display_data"
    }
   ],
   "source": [
    "# Отобразим данные\n",
    "plt.rcParams['figure.figsize'] = (8, 5)\n",
    "plt.scatter(X, y)\n",
    "plt.xlabel('X')\n",
    "plt.ylabel('y')\n",
    "plt.show()"
   ]
  },
  {
   "cell_type": "code",
   "execution_count": 4,
   "metadata": {},
   "outputs": [],
   "source": [
    "learning_rate = 0.005\n",
    "number_of_epochs = 10000\n",
    "m, c = 0, 0\n",
    "\n",
    "for i in range(number_of_epochs): \n",
    "    y_pred = m * X + c\n",
    "    D_m = (-1 / n) * sum(X * (y - y_pred))\n",
    "    D_c = (-1 / n) * sum(y - y_pred)\n",
    "    m = m - learning_rate * D_m\n",
    "    c = c - learning_rate * D_c"
   ]
  },
  {
   "cell_type": "code",
   "execution_count": 5,
   "metadata": {},
   "outputs": [
    {
     "data": {
      "image/png": "[encoded data removed]",
      "text/plain": [
       "<Figure size 576x360 with 1 Axes>"
      ]
     },
     "metadata": {
      "needs_background": "light"
     },
     "output_type": "display_data"
    }
   ],
   "source": [
    "# Предсказания модели\n",
    "y_pred = m * X + c\n",
    "\n",
    "plt.scatter(X, y)\n",
    "plt.xlabel('X')\n",
    "plt.ylabel('y')\n",
    "plt.plot([min(X), max(X)], [min(y_pred), max(y_pred)], color='red')\n",
    "plt.show()"
   ]
  },
  {
   "cell_type": "markdown",
   "metadata": {},
   "source": [
    "[Визуализация метода](https://miro.medium.com/max/1400/1*CjTBNFUEI_IokEOXJ00zKw.gif)"
   ]
  },
  {
   "cell_type": "markdown",
   "metadata": {},
   "source": [
    "### Градиентный спуск для задачи поиска оптимальных коэффициентов в MSE регрессии\n",
    "\n",
    "Модель линейной регрессии: \n",
    "\n",
    "$$a(x) = \\beta_1 d_{1} + \\beta_2 d_{2} + ... + \\beta_{n} d_{n} + \\beta_0$$\n",
    "\n",
    "Минимизируемая функция MSE:\n",
    "\n",
    "$$Q(a(X), Y) = \\sum_{i=1}^{N} (a(x_i) - y_i)^2 = \\frac{1}{N}\\cdot\\sum_{i=1}^N (\\beta_1 \\cdot d_{i1} + ... + \\beta_n \\cdot d_{in} - y_i)^2$$\n",
    "\n",
    "Вектор-градиент по всем переменным:\n",
    "\n",
    "$$ \\nabla Q(a, X) = (Q'_{\\beta_1} \\;\\;\\; Q'_{\\beta_2} \\;\\;\\; ...  \\;\\;\\;  Q'_{\\beta_n}) $$\n",
    "\n",
    "Вычисление производной по одной из переменных:\n",
    "\n",
    "$$ Q'_{\\beta_1} = \\frac{2}{N} \\cdot \\sum_{i=1}^N d_{i1} (\\beta_1 \\cdot d_{i1} + ... + \\beta_{n} \\cdot d_{in} - y_i) $$\n",
    "\n",
    "Каждая итерация градиентного спуска при установленном learning_rate ($\\eta$): \n",
    "\n",
    "$$\\beta^{(n+1)} = \\beta^{(n)} - \\eta \\cdot \\nabla Q(\\beta^{(n)})$$\n",
    "\n",
    "Обучение происходит до схождения, то есть:\n",
    "\n",
    "$$|Q(\\beta^{(n)}) - Q(\\beta^{(n+1)})| < threshold$$"
   ]
  },
  {
   "cell_type": "code",
   "execution_count": 6,
   "metadata": {},
   "outputs": [],
   "source": [
    "data = pd.read_csv('tmp/data.csv')\n",
    "X = data.drop(columns=['target'], axis=1)\n",
    "Y = data['target']"
   ]
  },
  {
   "cell_type": "code",
   "execution_count": 7,
   "metadata": {},
   "outputs": [],
   "source": [
    "class LinearRegressionGradientDescentMse:\n",
    "    \"\"\" Базовый класс для реализации градиентного спуска в задаче линейной МНК регрессии \"\"\"\n",
    "\n",
    "    def __init__(self,\n",
    "                 df_features: pd.DataFrame,\n",
    "                 df_target: pd.DataFrame,\n",
    "                 learning_rate: float=1e-3,\n",
    "                 threshold=1e-6,\n",
    "                 copy: bool=True):\n",
    "        \"\"\"\n",
    "        self.X - матрица признаков\n",
    "        self.y - вектор таргетов\n",
    "        self.beta - вектор весов модели\n",
    "        self.learning_rate - шаг обучения для корректировки нормы градиента\n",
    "        self.threshold - порог для остановки градиентного спуска\n",
    "        iteration_loss_dict - словарь, хранящий номер итерации и значение MSE на ней\n",
    "        copy: копирование матрицы признаков или создание изменения in-place\n",
    "        \"\"\"\n",
    "        self.X = df_features.copy().values if copy else df_features.values\n",
    "        self.y = df_target.values\n",
    "        \n",
    "        # Добавление константной колонки (interсept) в матрицу признаков\n",
    "        interсept = np.ones(self.X.shape[0])\n",
    "        self.X = np.c_[self.X, interсept]\n",
    "        \n",
    "        # Инициализируем веса модели единицами\n",
    "        self.beta = np.ones(self.X.shape[1])\n",
    "        \n",
    "        self.learning_rate = learning_rate\n",
    "        self.threshold = threshold\n",
    "        self.iteration_loss_dict = dict()     \n",
    "        \n",
    "    def calculate_mse_loss(self) -> float:\n",
    "        \"\"\"\n",
    "        Метод для расчета MSE\n",
    "        :return: среднеквадратическая ошибка при текущих весах модели\n",
    "        \"\"\"\n",
    "        return np.mean((np.dot(self.X, self.beta) - self.y) ** 2)\n",
    "        \n",
    "    def calculate_gradient(self) -> np.ndarray:\n",
    "        \"\"\"\n",
    "        Метод для вычисления вектора-градиента\n",
    "        :return: вектор-градиент, содержащий производные по каждому признаку\n",
    "        \"\"\"\n",
    "        gradient = np.empty(self.X.shape[1])\n",
    "\n",
    "        for j in range(self.X.shape[1]):\n",
    "            gradient[j] = 2 * np.mean((np.dot(self.X, self.beta) - self.y) * self.X[:, j])\n",
    "\n",
    "        return gradient\n",
    "    \n",
    "    def iteration(self):\n",
    "        \"\"\" Метод для обновления весов в соответствии с текущим вектором-градиентом \"\"\"\n",
    "        self.beta = self.beta - (self.learning_rate * self.calculate_gradient())\n",
    "        \n",
    "    def fit(self):\n",
    "        \"\"\" Метод для обучения весов модели до срабатывания критерия останова \"\"\"\n",
    "        iteration = 0\n",
    "        self.iteration()\n",
    "        self.iteration_loss_dict[iteration] = self.calculate_mse_loss()\n",
    "\n",
    "        while True:\n",
    "            iteration += 1\n",
    "            self.iteration()\n",
    "            self.iteration_loss_dict[iteration] = self.calculate_mse_loss()\n",
    "            abs_delta = abs(self.iteration_loss_dict[iteration] - self.iteration_loss_dict[iteration - 1])\n",
    "            if abs_delta < self.threshold:\n",
    "                break"
   ]
  },
  {
   "cell_type": "code",
   "execution_count": 8,
   "metadata": {},
   "outputs": [],
   "source": [
    "GD = LinearRegressionGradientDescentMse(df_features=X, df_target=Y)\n",
    "GD.fit()"
   ]
  },
  {
   "cell_type": "code",
   "execution_count": 9,
   "metadata": {},
   "outputs": [
    {
     "data": {
      "text/plain": [
       "array([0.88733305, 1.90100713, 2.88063607, 3.87662612, 4.89623507,\n",
       "       5.89126182, 6.89254811, 7.90311947, 8.87580109, 9.86109585,\n",
       "       4.94854733])"
      ]
     },
     "execution_count": 9,
     "metadata": {},
     "output_type": "execute_result"
    }
   ],
   "source": [
    "# Веса модели при переменных d1, ..., d10, d0\n",
    "GD.beta"
   ]
  },
  {
   "cell_type": "code",
   "execution_count": 10,
   "metadata": {},
   "outputs": [
    {
     "data": {
      "text/plain": [
       "(array([ 1.,  2.,  3.,  4.,  5.,  6.,  7.,  8.,  9., 10.]), 4.373157038707117)"
      ]
     },
     "execution_count": 10,
     "metadata": {},
     "output_type": "execute_result"
    }
   ],
   "source": [
    "# Веса модели логистической регрессии из пакета sklearn\n",
    "lr = LinearRegression()\n",
    "lr.fit(X, Y);\n",
    "lr.coef_, lr.intercept_"
   ]
  }
 ],
 "metadata": {
  "kernelspec": {
   "display_name": "Python 3",
   "language": "python",
   "name": "python3"
  },
  "language_info": {
   "codemirror_mode": {
    "name": "ipython",
    "version": 3
   },
   "file_extension": ".py",
   "mimetype": "text/x-python",
   "name": "python",
   "nbconvert_exporter": "python",
   "pygments_lexer": "ipython3",
   "version": "3.8.3"
  }
 },
 "nbformat": 4,
 "nbformat_minor": 4
}
