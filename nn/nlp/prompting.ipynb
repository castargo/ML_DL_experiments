{
 "cells": [
  {
   "cell_type": "markdown",
   "id": "c4bdcf8f",
   "metadata": {},
   "source": [
    "# Пара слов о том, как писать промпты\n",
    "\n",
    "* [Prompt Engineering Guide](https://www.promptingguide.ai/)\n",
    "* [Курс по промптингу от OpenAI](https://platform.openai.com/docs/guides/prompt-engineering/six-strategies-for-getting-better-results)\n",
    "* [Курс ChatGPT Prompt Engineering for Developers](https://www.deeplearning.ai/short-courses/chatgpt-prompt-engineering-for-developers/)\n",
    "* [Курс Делаем свой AI-продукт на базе ChatGPT или других LLM моделей](https://stepik.org/course/178846/syllabus)\n",
    "    * [GitHub курса: Prompt Engineering - выжми из модели максимум](https://github.com/a-milenkin/LLM_practical_course/blob/main/notebooks/M2.1_Prompt_Engineering_intro.ipynb)"
   ]
  },
  {
   "cell_type": "markdown",
   "id": "7212e497",
   "metadata": {},
   "source": [
    "## Техники\n",
    "\n",
    "* Zero-shot Prompting\n",
    "* Few-shot Prompting\n",
    "* Chain-of-Thought Prompting"
   ]
  },
  {
   "cell_type": "markdown",
   "id": "05c02bc1",
   "metadata": {},
   "source": [
    "## Трюки\n",
    "\n",
    "* Делите текст на абзацы, включайте детали в запрос\n",
    "* Добавляйте примеры: сгенерированный текст, факты для модели\n",
    "* Выделяйте примеры специальными символами, например, тройными кавычками\n",
    "* Просите модель \"представить, что она <профессия>\"\n",
    "* Указывайте алгоритм выполнения задачи по небольшим шагам, которые должны выполняться по очереди\n",
    "* Просите модель вернуть ответ в определенном формате, например JSON"
   ]
  }
 ],
 "metadata": {
  "kernelspec": {
   "display_name": "Python 3",
   "language": "python",
   "name": "python3"
  },
  "language_info": {
   "codemirror_mode": {
    "name": "ipython",
    "version": 3
   },
   "file_extension": ".py",
   "mimetype": "text/x-python",
   "name": "python",
   "nbconvert_exporter": "python",
   "pygments_lexer": "ipython3",
   "version": "3.8.3"
  }
 },
 "nbformat": 4,
 "nbformat_minor": 5
}
