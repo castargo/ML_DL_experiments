{
 "cells": [
  {
   "cell_type": "markdown",
   "id": "e25b3d0e",
   "metadata": {},
   "source": [
    "# Промпты для LLM и оптимизация работы с ними (LangChain)\n",
    "\n",
    "* [Prompt Engineering Guide](https://www.promptingguide.ai/)\n",
    "* [Курс по промптингу от OpenAI](https://platform.openai.com/docs/guides/prompt-engineering/six-strategies-for-getting-better-results)\n",
    "* [Курс ChatGPT Prompt Engineering for Developers](https://www.deeplearning.ai/short-courses/chatgpt-prompt-engineering-for-developers/)\n",
    "* [Мануал The Prompt Report: A Systematic Survey of Prompting Techniques](https://arxiv.org/pdf/2406.06608)\n",
    "* [Курс Делаем свой AI-продукт на базе ChatGPT или других LLM моделей](https://stepik.org/course/178846/syllabus)\n",
    "    * [GitHub курса: Prompt Engineering - выжми из модели максимум](https://github.com/a-milenkin/LLM_practical_course/blob/main/notebooks/M2.1_Prompt_Engineering_intro.ipynb)"
   ]
  },
  {
   "cell_type": "markdown",
   "id": "99de3ec2",
   "metadata": {},
   "source": [
    "## Промпты\n",
    "\n",
    "Промпт — это входные данные для LLM, которые используются для управления ее выходными данными.\n",
    "\n",
    "Компоненты промпта:\n",
    "* Инструкция\n",
    "    * Описание задачи\n",
    "    * И т.д.\n",
    "* Контекст\n",
    "* Запрос\n",
    "    * Описание формата выхода\n",
    "    * Описание стиля выхода\n",
    "    * И т.д.\n",
    "* Индикатор окончания промпта"
   ]
  },
  {
   "cell_type": "code",
   "execution_count": 13,
   "id": "2e43484c",
   "metadata": {},
   "outputs": [],
   "source": [
    "prompt = \"\"\"\n",
    "Ты великий мыслитель, которому задают логические головоломки.\n",
    "Ответь на предложенную головоломку и кратко обоснуй ответ.\n",
    "Если не знаешь правильный ответ, отвечай: 'Это тайна, покрытая мраком'.\n",
    "\n",
    "Головоломка: В квартире живут домашние животные: собаки и кошки. \n",
    "Из всех животных только одно не является собакой, при этом все питомцы, кроме одного, — кошки. \n",
    "\n",
    "Вопрос: Сколько всего кошек и собак?\n",
    "\n",
    "Ответ: \n",
    "\"\"\""
   ]
  },
  {
   "cell_type": "code",
   "execution_count": 14,
   "id": "2c7ef682",
   "metadata": {},
   "outputs": [
    {
     "data": {
      "text/plain": [
       "'Всего в квартире живут 2 кошки и 1 собака. Поскольку из всех животных только одно не является собакой, то это означает, что одна из кошек не является собакой.'"
      ]
     },
     "execution_count": 14,
     "metadata": {},
     "output_type": "execute_result"
    }
   ],
   "source": [
    "# Ну такое\n",
    "llm.invoke(prompt).content"
   ]
  },
  {
   "cell_type": "markdown",
   "id": "4973b456",
   "metadata": {},
   "source": [
    "Можно передавать несколько контекстов, разделяя их специальными символами:"
   ]
  },
  {
   "cell_type": "code",
   "execution_count": 16,
   "id": "d554878c",
   "metadata": {},
   "outputs": [],
   "source": [
    "prompt = \"\"\"\n",
    "Ты профессиональный оратор и аниматор.\n",
    "Напиши небольшое персональное поздравление для человека, \n",
    "опираясь на факты из его жизни.\n",
    "Поздравление заверши словами: 'И, конечно, желаю счастья и здоровья!'\n",
    "\n",
    "###\n",
    "\n",
    "Девушке 28 лет.\n",
    "\n",
    "###\n",
    "\n",
    "Она художница.\n",
    "\n",
    "###\n",
    "\n",
    "Она очень любит свою кошку по кличке Марфа.\n",
    "\n",
    "###\n",
    "\n",
    "Поздравление: \n",
    "\"\"\""
   ]
  },
  {
   "cell_type": "code",
   "execution_count": 17,
   "id": "428ccc75",
   "metadata": {},
   "outputs": [
    {
     "data": {
      "text/plain": [
       "'Дорогая (имя), сегодня твой день, и я хочу поздравить тебя с твоим 28-летием! Ты не только талантливая художница, но и замечательная хозяйка для своей любимой кошки Марфы. Твоя страсть к искусству и забота о пушистом друге делают тебя по-настоящему уникальной и замечательной личностью. Пусть в твоей жизни будет много радости, вдохновения и успехов во всех начинаниях. И, конечно, желаю счастья и здоровья!'"
      ]
     },
     "execution_count": 17,
     "metadata": {},
     "output_type": "execute_result"
    }
   ],
   "source": [
    "llm.invoke(prompt).content"
   ]
  },
  {
   "cell_type": "markdown",
   "id": "5d38d9d0",
   "metadata": {},
   "source": [
    "## Общие советы\n",
    "\n",
    "* Пишите так, чтобы было понятно, к чему относится каждое конкретное слово\n",
    "* Делите текст на абзацы, включайте детали в запрос\n",
    "* Добавляйте примеры: сгенерированный текст, факты для модели\n",
    "* Выделяйте примеры специальными символами, например, тройными кавычками\n",
    "* Просите модель \"представить, что она <профессия>\"\n",
    "* Указывайте алгоритм выполнения задачи по небольшим шагам, которые должны выполняться по очереди\n",
    "* Просите модель вернуть ответ в определенном формате, например JSON\n",
    "* При необходимости ограничивайте длину сгенерированного ответа в словах или предложениях"
   ]
  },
  {
   "cell_type": "markdown",
   "id": "696e6057",
   "metadata": {},
   "source": [
    "## Техники\n",
    "\n",
    "* Zero-shot Prompting\n",
    "* Few-shot Prompting\n",
    "* Chain-of-Thought Prompting"
   ]
  },
  {
   "cell_type": "markdown",
   "id": "bfa7d588",
   "metadata": {},
   "source": [
    "# LangChain - фреймворк для работы с LLM\n",
    "\n",
    "* [LangChain docs](https://python.langchain.com/v0.2/docs/introduction/)\n",
    "* [GigaChain](https://github.com/ai-forever/gigachain)"
   ]
  },
  {
   "cell_type": "markdown",
   "id": "acfd0c3e",
   "metadata": {},
   "source": [
    "## Шаблоны (prompt template)\n",
    "\n",
    "Шаблон — это функция, которая содержит одну или несколько переменных, которые будут заменены некоторым текстом для создания промпта. \n",
    "Промпт может считаться экземпляром шаблона.\n",
    "\n",
    "[Виды шаблонов в LangChain](https://python.langchain.com/v0.1/docs/modules/model_io/prompts/quick_start/):\n",
    "* PromptTemplate\n",
    "* ChatPromptTemplate\n",
    "* Message Prompts"
   ]
  },
  {
   "cell_type": "code",
   "execution_count": 24,
   "id": "2b9b8fe1",
   "metadata": {},
   "outputs": [],
   "source": [
    "from langchain import PromptTemplate"
   ]
  },
  {
   "cell_type": "code",
   "execution_count": 25,
   "id": "927a4eda",
   "metadata": {},
   "outputs": [],
   "source": [
    "template = \"\"\"\n",
    "Ты великий мыслитель, которому задают логические головоломки.\n",
    "Ответь на предложенную головоломку и кратко обоснуй ответ.\n",
    "Если не знаешь правильный ответ, отвечай: 'Это тайна, покрытая мраком'.\n",
    "\n",
    "Context: {context}\n",
    "\n",
    "Question: {question}\n",
    "\n",
    "Answer: \n",
    "\"\"\"\n",
    "\n",
    "prompt_template = PromptTemplate(\n",
    "    input_variables=['context', 'question'],\n",
    "    template=template\n",
    ")"
   ]
  },
  {
   "cell_type": "code",
   "execution_count": 27,
   "id": "bc2a17ef",
   "metadata": {},
   "outputs": [
    {
     "data": {
      "text/plain": [
       "'Медведь белого цвета, так как дом находится на северном полюсе, где белые медведи обитают.'"
      ]
     },
     "execution_count": 27,
     "metadata": {},
     "output_type": "execute_result"
    }
   ],
   "source": [
    "prompt = prompt_template.format(\n",
    "    context='Дом имеет четыре стены, причём все они смотрят на юг. Вокруг дома ходит медведь.',\n",
    "    question='Какого цвета медведь?'\n",
    ")\n",
    "llm.invoke(prompt).content"
   ]
  }
 ],
 "metadata": {
  "kernelspec": {
   "display_name": "Python 3",
   "language": "python",
   "name": "python3"
  },
  "language_info": {
   "codemirror_mode": {
    "name": "ipython",
    "version": 3
   },
   "file_extension": ".py",
   "mimetype": "text/x-python",
   "name": "python",
   "nbconvert_exporter": "python",
   "pygments_lexer": "ipython3",
   "version": "3.8.3"
  }
 },
 "nbformat": 4,
 "nbformat_minor": 5
}
