{
 "cells": [
  {
   "cell_type": "markdown",
   "id": "faa16689",
   "metadata": {},
   "source": [
    "# Промпты для LLM и оптимизация работы с ними (LangChain)"
   ]
  },
  {
   "cell_type": "markdown",
   "id": "91d66ef8",
   "metadata": {},
   "source": [
    "## Промпты\n",
    "\n",
    "* [Prompt Engineering Guide](https://www.promptingguide.ai/)\n",
    "* [Курс по промптингу от OpenAI](https://platform.openai.com/docs/guides/prompt-engineering/six-strategies-for-getting-better-results)\n",
    "* [Курс ChatGPT Prompt Engineering for Developers](https://www.deeplearning.ai/short-courses/chatgpt-prompt-engineering-for-developers/)\n",
    "* [Мануал The Prompt Report: A Systematic Survey of Prompting Techniques](https://arxiv.org/pdf/2406.06608)\n",
    "* [LangChain Hub](https://smith.langchain.com/hub)\n",
    "* [Anthropic's Prompt Engineering Interactive Tutorial](https://github.com/anthropics/courses/tree/master/prompt_engineering_interactive_tutorial)\n",
    "* [Anthropic's System Prompts](https://docs.anthropic.com/en/release-notes/system-prompts)\n",
    "* [Intent-based Prompt Calibration: Enhancing prompt optimization with synthetic boundary cases](https://arxiv.org/pdf/2402.03099)\n",
    "\n",
    "Промпт (prompt - подсказка) — это запрос к LLM, который используется для управления ее выходными данными (генерацией).\n",
    "\n",
    "Компоненты промпта:\n",
    "* Запрос\n",
    "    * Должен быть четким и однозначным\n",
    "* Контекст\n",
    "* Инструкция\n",
    "    * Описание задачи\n",
    "    * Задание роли\n",
    "    * Задание мотивации (награда, угроза, помощь)\n",
    "    * Описание формата выхода\n",
    "    * Описание стиля выхода\n",
    "    * И т.д.\n",
    "* Примеры (few-shot)\n",
    "\n",
    "Токен - базовая единица генерации LLM. Средняя длина BPE-токена: 3-5 символов."
   ]
  },
  {
   "cell_type": "code",
   "execution_count": 9,
   "id": "6305c43b",
   "metadata": {},
   "outputs": [],
   "source": [
    "prompt = \"\"\"\n",
    "Ты великий мыслитель, которому задают логические головоломки.\n",
    "Ответь на предложенную головоломку и кратко обоснуй ответ.\n",
    "Если не знаешь правильный ответ, отвечай: 'Это тайна, покрытая мраком'.\n",
    "\n",
    "Головоломка: В квартире живут домашние животные: собаки и кошки. \n",
    "Из всех животных только одно не является собакой, при этом все питомцы, кроме одного, — кошки. \n",
    "\n",
    "Вопрос: Сколько всего кошек и собак?\n",
    "\n",
    "Ответ: \n",
    "\"\"\""
   ]
  },
  {
   "cell_type": "code",
   "execution_count": 10,
   "id": "a28ec6c3",
   "metadata": {},
   "outputs": [
    {
     "data": {
      "text/plain": [
       "'Всего в квартире живут 2 кошки и 1 собака. Поскольку из всех животных только одно не является собакой, а все питомцы, кроме одного, — кошки, то это означает, что один питомец - собака, а остальные - кошки.'"
      ]
     },
     "execution_count": 10,
     "metadata": {},
     "output_type": "execute_result"
    }
   ],
   "source": [
    "# Ну такое\n",
    "llm.invoke(prompt).content"
   ]
  },
  {
   "cell_type": "markdown",
   "id": "a5c32fa7",
   "metadata": {},
   "source": [
    "Можно передавать несколько контекстов, разделяя их специальными символами:"
   ]
  },
  {
   "cell_type": "code",
   "execution_count": 11,
   "id": "317c5ef5",
   "metadata": {},
   "outputs": [],
   "source": [
    "prompt = \"\"\"\n",
    "Ты профессиональный оратор и аниматор.\n",
    "Напиши небольшое персональное поздравление для человека, \n",
    "опираясь на факты из его жизни.\n",
    "Поздравление заверши словами: 'И, конечно, желаю счастья и здоровья!'\n",
    "\n",
    "###\n",
    "\n",
    "Девушке 28 лет.\n",
    "\n",
    "###\n",
    "\n",
    "Она художница.\n",
    "\n",
    "###\n",
    "\n",
    "Она очень любит свою кошку по кличке Марфа.\n",
    "\n",
    "###\n",
    "\n",
    "Поздравление: \n",
    "\"\"\""
   ]
  },
  {
   "cell_type": "code",
   "execution_count": 12,
   "id": "995ca615",
   "metadata": {},
   "outputs": [
    {
     "data": {
      "text/plain": [
       "'Дорогая (имя), сегодня твой день, и я хочу поздравить тебя с твоим 28-летием! Ты такая талантливая художница, твои работы всегда вдохновляют и восхищают. Твоя любовь к искусству и красоте делает мир ярче и прекраснее.\\n\\nИ, конечно, как не упомянуть твою верную подругу - кошку Марфу! Твоя забота и любовь к ней просто невероятны, и это так трогательно.\\n\\nЖелаю тебе продолжать творить, вдохновляться и вдохновлять других своим талантом. Пусть каждый день приносит новые яркие краски в твою жизнь, а Марфа всегда будет рядом, радуя и лаская.\\n\\nИ, конечно, желаю счастья и здоровья! С днем рождения! 🎨🐱🎉'"
      ]
     },
     "execution_count": 12,
     "metadata": {},
     "output_type": "execute_result"
    }
   ],
   "source": [
    "llm.invoke(prompt).content"
   ]
  },
  {
   "cell_type": "markdown",
   "id": "7e4f23cd",
   "metadata": {},
   "source": [
    "## Общие советы\n",
    "\n",
    "* Пишите так, чтобы было понятно, к чему относится каждое конкретное слово\n",
    "* Делите текст на абзацы, включайте детали в запрос\n",
    "* Добавляйте примеры: сгенерированный текст, факты для модели\n",
    "* Выделяйте примеры специальными символами, например, тройными кавычками\n",
    "* Просите модель \"представить, что она <профессия>\"\n",
    "* Указывайте алгоритм выполнения задачи по небольшим шагам, которые должны выполняться по очереди\n",
    "* Просите модель вернуть ответ в определенном формате, например JSON\n",
    "* При необходимости ограничивайте длину сгенерированного ответа в словах или предложениях"
   ]
  },
  {
   "cell_type": "markdown",
   "id": "91e60409",
   "metadata": {},
   "source": [
    "## Техники\n",
    "\n",
    "* [Zero-shot Prompting](https://www.promptingguide.ai/techniques/zeroshot)\n",
    "* [Few-shot Prompting](https://www.promptingguide.ai/techniques/fewshot)\n",
    "* [Chain-of-Thought Prompting](https://www.promptingguide.ai/techniques/cot)\n",
    "* [Self-consistency Prompting](https://www.promptingguide.ai/techniques/consistency)\n",
    "* [Tree of Thgouht](https://www.promptingguide.ai/techniques/tot)\n",
    "* [Generated Knowledge Prompting](https://www.promptingguide.ai/techniques/knowledge)\n",
    "* [PAL (Program-Aided Language Models)](https://www.promptingguide.ai/techniques/pal)\n",
    "* Rephrase and Respond (RaR)\n",
    "* In-context learning (ICL)"
   ]
  },
  {
   "cell_type": "markdown",
   "id": "415fb8f9",
   "metadata": {},
   "source": [
    "## Проблемы\n",
    "\n",
    "* Repetition problem\n",
    "* Infinite output loop"
   ]
  },
  {
   "cell_type": "markdown",
   "id": "831cfad9",
   "metadata": {},
   "source": [
    "# LangChain - фреймворк для работы с LLM\n",
    "\n",
    "* [LangChain docs](https://python.langchain.com/v0.2/docs/introduction/)\n",
    "* [GigaChain github](https://github.com/ai-forever/gigachain)\n",
    "* [Langchain - делаем AI chat бота поверх ваших документов // Курс «Machine Learning. Professional»](https://www.youtube.com/watch?v=aZVGQ-IlkF8&ab_channel=OTUS%D0%9E%D0%BD%D0%BB%D0%B0%D0%B9%D0%BD-%D0%BE%D0%B1%D1%80%D0%B0%D0%B7%D0%BE%D0%B2%D0%B0%D0%BD%D0%B8%D0%B5)\n",
    "* [Курс Делаем свой AI-продукт на базе ChatGPT или других LLM моделей](https://stepik.org/course/178846/syllabus)\n",
    "    * [GitHub курса: Prompt Engineering - выжми из модели максимум](https://github.com/a-milenkin/LLM_practical_course/blob/main/notebooks/M2.1_Prompt_Engineering_intro.ipynb)\n",
    "* [A Complete LangChain Guide](https://nanonets.com/blog/langchain/)"
   ]
  },
  {
   "cell_type": "markdown",
   "id": "95bc454c",
   "metadata": {},
   "source": [
    "## Шаблоны (prompt template)\n",
    "\n",
    "Шаблон — это функция, которая содержит одну или несколько переменных, которые будут заменены некоторым текстом для создания промпта. \n",
    "Промпт может считаться экземпляром шаблона.\n",
    "\n",
    "[Виды шаблонов в LangChain](https://python.langchain.com/v0.1/docs/modules/model_io/prompts/quick_start/):\n",
    "* Message Prompts\n",
    "* PromptTemplate\n",
    "* ChatPromptTemplate\n",
    "* FewShotPromptTemplate"
   ]
  },
  {
   "cell_type": "code",
   "execution_count": 13,
   "id": "c672e0c2",
   "metadata": {},
   "outputs": [],
   "source": [
    "from langchain import PromptTemplate"
   ]
  },
  {
   "cell_type": "code",
   "execution_count": 14,
   "id": "c777d7a9",
   "metadata": {},
   "outputs": [],
   "source": [
    "template = \"\"\"\n",
    "Ты великий мыслитель, которому задают логические головоломки.\n",
    "Ответь на предложенную головоломку и кратко обоснуй ответ.\n",
    "Если не знаешь правильный ответ, отвечай: 'Это тайна, покрытая мраком'.\n",
    "\n",
    "Context: {context}\n",
    "\n",
    "Question: {question}\n",
    "\n",
    "Answer: \n",
    "\"\"\"\n",
    "\n",
    "prompt_template = PromptTemplate(\n",
    "    input_variables=['context', 'question'],\n",
    "    template=template\n",
    ")"
   ]
  },
  {
   "cell_type": "code",
   "execution_count": 15,
   "id": "ae16fe83",
   "metadata": {},
   "outputs": [
    {
     "data": {
      "text/plain": [
       "'Белого цвета. Потому что если все стены дома смотрят на юг, значит дом находится на северном полюсе, где обитают белые медведи.'"
      ]
     },
     "execution_count": 15,
     "metadata": {},
     "output_type": "execute_result"
    }
   ],
   "source": [
    "prompt = prompt_template.format(\n",
    "    context='Дом имеет четыре стены, причём все они смотрят на юг. Вокруг дома ходит медведь.',\n",
    "    question='Какого цвета медведь?'\n",
    ")\n",
    "llm.invoke(prompt).content"
   ]
  }
 ],
 "metadata": {
  "kernelspec": {
   "display_name": "Python 3",
   "language": "python",
   "name": "python3"
  },
  "language_info": {
   "codemirror_mode": {
    "name": "ipython",
    "version": 3
   },
   "file_extension": ".py",
   "mimetype": "text/x-python",
   "name": "python",
   "nbconvert_exporter": "python",
   "pygments_lexer": "ipython3",
   "version": "3.8.3"
  }
 },
 "nbformat": 4,
 "nbformat_minor": 5
}
