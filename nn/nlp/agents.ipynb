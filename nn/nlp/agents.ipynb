{
 "cells": [
  {
   "cell_type": "markdown",
   "id": "ee06a259",
   "metadata": {},
   "source": [
    "# Агенты\n",
    "\n",
    "* [Hugging Face 🤗 AI Agents Course](https://huggingface.co/learn/agents-course/unit0/introduction)\n",
    "* [Introduction to LangGraph от LangChain Academy](https://academy.langchain.com/courses/intro-to-langgraph)\n",
    "* [GenAI Agents: Comprehensive Repository for Development and Implementation](https://github.com/NirDiamant/GenAI_Agents)"
   ]
  },
  {
   "cell_type": "markdown",
   "id": "394ad8a2",
   "metadata": {},
   "source": [
    "## Определение агента\n",
    "\n",
    "[Building effective agents от Anthropic](https://www.anthropic.com/engineering/building-effective-agents)\n",
    "\n",
    "LLM pipeline / LLM workflow / LLM based сервис - с это сервис, в рамках которого LLM и прочие инструменты координируются по заранее определенным и зафиксированным путям (детерминированный граф), например, one-prompt application, RAG-сервис и прочее.\n",
    "\n",
    "Agent system - это сервис, в рамках которого LLM-оркестратор самостоятельно принимает решения о том, какие шаги пайплайна выполнить, вопросы задать пользователю, в какие системы ходить, как разбить задачу на подзадачи и какие LLM-акторы ее должны выполнить (динамический граф). Агенты нужны для сложных задач (open-ended problems), например, понимание сложных входов, участие в рассуждениях и планировании, отладка ошибок. В идеале агентская система может полностью эмулировать специалиста в некоторой области. Агенты начинают свою работу либо с команды, либо интерактивной дискуссии с человеком.\n",
    "\n",
    "Признаками агента являются:\n",
    "* (Role) Умеет принимать на себя роль и выполнять задачу в ее рамках\n",
    "* (Reasoning & Reflection) Понимает запрос, планирует, как выполнить задачу\n",
    "* (Memory) Имеет знания о контексте и истории\n",
    "* (Domain knowledge) Имеет знания о предметной области\n",
    "* (Autonomy & Action) Самостоятельно выполняет действия, взаимодействуя со средой\n",
    "\n",
    "Фреймворки для создания агентных систем:\n",
    "* [LangGraph (LangChain)](https://langchain-ai.github.io/langgraph/)\n",
    "* [Агенты Amazon Bedrock](https://aws.amazon.com/ru/bedrock/agents/)\n",
    "* [Rivet (a visual programming environment for building AI agents with LLMs)](https://rivet.ironcladapp.com/)\n",
    "* [Vellum (a visual programming environment for building AI agents with LLMs)](https://www.vellum.ai/)\n",
    "\n",
    "Составные части блока агента:\n",
    "* LLM\n",
    "* Инструменты (Функции: Calls / Responses / Cycles)\n",
    "* Retrieval (БД: Query / Results)\n",
    "* Memory (БД: Read / Write)\n",
    "\n",
    "LLM-блоки можно объединять в цепочки, из них можно строить workflow с роутингом на разные LLM-акторы:\n",
    "* Цепочки простов\n",
    "* Роутинг / параллелизм\n",
    "* Секционирование / голосование\n",
    "* Синтез\n",
    "* Цикл с обратной связью"
   ]
  },
  {
   "cell_type": "markdown",
   "id": "e8834e8a",
   "metadata": {},
   "source": [
    "## Примеры агентов\n",
    "\n",
    "### Примеры агентов\n",
    "\n",
    "* [gigachain_telegram_bot](https://github.com/Rai220/gigachain_telegram_bot/tree/main)\n",
    "* [PydanticAI - Flight booking](https://ai.pydantic.dev/examples/flight-booking/)\n",
    "\n",
    "### Multitool agents\n",
    "\n",
    "* [langgraph-bigtool](https://github.com/langchain-ai/langgraph-bigtool)\n",
    "* [LangGraph Multi-Agent Swarm](https://github.com/langchain-ai/langgraph-swarm-py)\n",
    "\n",
    "### Агенты для написания кода\n",
    "\n",
    "Агенты:\n",
    "* [VS Code Copilot arena](https://blog.lmarena.ai/blog/2024/copilot-arena/)\n",
    "* [Colab agent](https://developers.googleblog.com/en/data-science-agent-in-colab-with-gemini/?linkId=13237992)\n",
    "* [GitHub Copilot agent](https://github.blog/news-insights/product-news/github-copilot-the-agent-awakens/)\n",
    "* [Goose (Block Джека Дорси)](https://block.github.io/goose/)\n",
    "* [DeepSite](https://huggingface.co/spaces/enzostvs/deepsite)\n",
    "* [Codex от OpenAI](https://openai.com/index/introducing-codex/)\n",
    "\n",
    "Датасеты и бенчмарки:\n",
    "* [SWE-bench (Software Engineering Benchmark)](https://www.swebench.com/)\n",
    "* [DABStep: Data Agent Benchmark for Multi-step Reasoning](https://huggingface.co/blog/dabstep)"
   ]
  }
 ],
 "metadata": {
  "kernelspec": {
   "display_name": "Python 3",
   "language": "python",
   "name": "python3"
  },
  "language_info": {
   "codemirror_mode": {
    "name": "ipython",
    "version": 3
   },
   "file_extension": ".py",
   "mimetype": "text/x-python",
   "name": "python",
   "nbconvert_exporter": "python",
   "pygments_lexer": "ipython3",
   "version": "3.8.3"
  }
 },
 "nbformat": 4,
 "nbformat_minor": 5
}
