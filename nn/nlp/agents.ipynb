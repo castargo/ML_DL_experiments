{
 "cells": [
  {
   "cell_type": "markdown",
   "id": "78f0a549",
   "metadata": {},
   "source": [
    "# Агенты\n",
    "\n",
    "* [Hugging Face 🤗 AI Agents Course](https://huggingface.co/learn/agents-course/unit0/introduction)\n",
    "* [Introduction to LangGraph от LangChain Academy](https://academy.langchain.com/courses/intro-to-langgraph)\n",
    "* [GenAI Agents: Comprehensive Repository for Development and Implementation](https://github.com/NirDiamant/GenAI_Agents)\n",
    "* [Large Language Model Agents - MOOC, Fall 2024](https://llmagents-learning.org/f24)"
   ]
  },
  {
   "cell_type": "markdown",
   "id": "73d0c66e",
   "metadata": {},
   "source": [
    "## Что такое агент\n",
    "\n",
    "[Building effective agents от Anthropic](https://www.anthropic.com/engineering/building-effective-agents)\n",
    "\n",
    "LLM pipeline / LLM workflow / LLM based сервис - с это сервис, в рамках которого LLM и прочие инструменты координируются по заранее определенным и зафиксированным путям (детерминированный граф), например, one-prompt application, RAG-сервис и прочее.\n",
    "\n",
    "Agent system - это сервис, в рамках которого LLM-оркестратор самостоятельно принимает решения о том, какие шаги пайплайна выполнить, вопросы задать пользователю, в какие системы ходить, как разбить задачу на подзадачи и какие LLM-акторы ее должны выполнить (динамический граф). Агенты нужны для сложных задач (open-ended problems), например, понимание сложных входов, участие в рассуждениях и планировании, отладка ошибок. В идеале агентская система может полностью эмулировать специалиста в некоторой области. Агенты начинают свою работу либо с команды, либо интерактивной дискуссии с человеком.\n",
    "\n",
    "Признаками агента являются:\n",
    "* (Role) Умеет принимать на себя роль и выполнять задачу в ее рамках\n",
    "* (Reasoning, Planning, Reflection) Понимает запрос, планирует, как выполнить задачу\n",
    "* (Memory) Имеет знания о контексте и истории\n",
    "* (Domain knowledge) Имеет знания о предметной области\n",
    "* (Autonomy, Action, Ecosystem) Самостоятельно выполняет действия, взаимодействуя со средой\n",
    "\n",
    "[ReAct](https://huggingface.co/papers/2210.03629) - основная парадигма для построения агентов.\n",
    "\n",
    "Составные части блока агента:\n",
    "* LLM\n",
    "* Инструменты (Функции: Calls / Responses / Cycles)\n",
    "* Retrieval (БД: Query / Results)\n",
    "* Memory (БД: Read / Write)\n",
    "\n",
    "LLM-блоки можно объединять в цепочки, из них можно строить workflow с роутингом на разные LLM-акторы:\n",
    "* Цепочки простов\n",
    "* Роутинг / параллелизм\n",
    "* Секционирование / голосование\n",
    "* Синтез\n",
    "* Цикл с обратной связью\n",
    "\n",
    "Фреймворки для создания агентных систем:\n",
    "* [LangGraph (LangChain)](https://langchain-ai.github.io/langgraph/)\n",
    "* [Smalagents by HuggigFace](https://huggingface.co/blog/smolagents)\n",
    "* [OpenAI Agents SDK](https://openai.github.io/openai-agents-python/)\n",
    "* [AutoGen - Microsoft Research](https://www.microsoft.com/en-us/research/project/autogen/)\n",
    "* [CrewAI](https://www.crewai.com/)\n",
    "* [Haystack by Deepset](https://haystack.deepset.ai/)\n",
    "* [Агенты Amazon Bedrock](https://aws.amazon.com/ru/bedrock/agents/)\n",
    "* [Rivet (a visual programming environment for building AI agents with LLMs)](https://rivet.ironcladapp.com/)\n",
    "* [Vellum (a visual programming environment for building AI agents with LLMs)](https://www.vellum.ai/)"
   ]
  },
  {
   "cell_type": "markdown",
   "id": "5d9a21fe",
   "metadata": {},
   "source": [
    "## LangGraph\n",
    "\n",
    "[Repo for LangChain agent course](https://github.com/langchain-ai/langchain-academy)\n",
    "\n",
    "Graph:\n",
    "* States\n",
    "    * Schema \n",
    "    * TypedDict\n",
    "* Nodes\n",
    "    * Custom python function\n",
    "    * First argument - state\n",
    "* Edges\n",
    "    * String (node) or function that returns string\n",
    "    * + START, END"
   ]
  },
  {
   "cell_type": "markdown",
   "id": "a0f01dfc",
   "metadata": {},
   "source": [
    "## Ссылки\n",
    "\n",
    "### Примеры MVP агентов\n",
    "\n",
    "* [gigachain_telegram_bot](https://github.com/Rai220/gigachain_telegram_bot/tree/main)\n",
    "* [PydanticAI - Flight booking](https://ai.pydantic.dev/examples/flight-booking/)\n",
    "\n",
    "### Multitool agents\n",
    "\n",
    "* [langgraph-bigtool](https://github.com/langchain-ai/langgraph-bigtool)\n",
    "* [LangGraph Multi-Agent Swarm](https://github.com/langchain-ai/langgraph-swarm-py)"
   ]
  }
 ],
 "metadata": {
  "kernelspec": {
   "display_name": "Python 3",
   "language": "python",
   "name": "python3"
  },
  "language_info": {
   "codemirror_mode": {
    "name": "ipython",
    "version": 3
   },
   "file_extension": ".py",
   "mimetype": "text/x-python",
   "name": "python",
   "nbconvert_exporter": "python",
   "pygments_lexer": "ipython3",
   "version": "3.8.3"
  }
 },
 "nbformat": 4,
 "nbformat_minor": 5
}
