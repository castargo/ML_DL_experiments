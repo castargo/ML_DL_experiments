{
 "cells": [
  {
   "cell_type": "markdown",
   "id": "c5a85fc5",
   "metadata": {},
   "source": [
    "# Агенты"
   ]
  },
  {
   "cell_type": "markdown",
   "id": "080caeaa",
   "metadata": {},
   "source": [
    "## Примеры агентов\n",
    "\n",
    "### Агенты для написания кода\n",
    "\n",
    "Агенты:\n",
    "* [VS Code Copilot arena](https://blog.lmarena.ai/blog/2024/copilot-arena/)\n",
    "* [Colab agent](https://developers.googleblog.com/en/data-science-agent-in-colab-with-gemini/?linkId=13237992)\n",
    "* [GitHub Copilot agent](https://github.blog/news-insights/product-news/github-copilot-the-agent-awakens/)\n",
    "* [Goose (Block Джека Дорси)](https://block.github.io/goose/)\n",
    "* [DeepSite](https://huggingface.co/spaces/enzostvs/deepsite)\n",
    "\n",
    "Датасеты:\n",
    "* [DABStep: Data Agent Benchmark for Multi-step Reasoning](https://huggingface.co/blog/dabstep)"
   ]
  }
 ],
 "metadata": {
  "kernelspec": {
   "display_name": "Python 3",
   "language": "python",
   "name": "python3"
  },
  "language_info": {
   "codemirror_mode": {
    "name": "ipython",
    "version": 3
   },
   "file_extension": ".py",
   "mimetype": "text/x-python",
   "name": "python",
   "nbconvert_exporter": "python",
   "pygments_lexer": "ipython3",
   "version": "3.8.3"
  }
 },
 "nbformat": 4,
 "nbformat_minor": 5
}
