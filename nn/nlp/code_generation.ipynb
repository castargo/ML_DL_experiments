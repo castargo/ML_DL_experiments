{
 "cells": [
  {
   "cell_type": "markdown",
   "id": "51bc10d8",
   "metadata": {},
   "source": [
    "# Code Generation\n",
    "\n",
    "* [GitHub Copilot](https://github.com/features/copilot)\n",
    "* [Code Llama](https://github.com/meta-llama/codellama)\n",
    "* [GigaCode](https://gigacode.ru/)\n",
    "* [DeepSeek Coder](https://deepseekcoder.github.io/)\n",
    "* [Gemma Coder](https://huggingface.co/MAISAAI/gemma-2b-coder)\n",
    "* [granite-code](https://ollama.com/library/granite-code)\n",
    "* [Automated Unit Test Improvement using Large Language Models at Meta](https://arxiv.org/pdf/2402.09171)\n",
    "* [Sonnet 3.5 for Coding 😍 - System Prompt](https://www.reddit.com/r/ClaudeAI/comments/1dwra38/sonnet_35_for_coding_system_prompt/?share_id=yWVcb2wqeQeZHY3nap5c7&utm_content=1&utm_medium=android_app&utm_name=androidcss&utm_source=share&utm_term=1&rdt=48337)"
   ]
  }
 ],
 "metadata": {
  "kernelspec": {
   "display_name": "Python 3",
   "language": "python",
   "name": "python3"
  },
  "language_info": {
   "codemirror_mode": {
    "name": "ipython",
    "version": 3
   },
   "file_extension": ".py",
   "mimetype": "text/x-python",
   "name": "python",
   "nbconvert_exporter": "python",
   "pygments_lexer": "ipython3",
   "version": "3.8.3"
  }
 },
 "nbformat": 4,
 "nbformat_minor": 5
}
