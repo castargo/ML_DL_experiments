{
 "cells": [
  {
   "cell_type": "markdown",
   "metadata": {},
   "source": [
    "# American Express - Default Prediction\n",
    "\n",
    "[Соревнование](https://www.kaggle.com/competitions/amex-default-prediction/data)\n",
    "\n",
    "[Нотбук cdeotte = 0.793](https://www.kaggle.com/code/cdeotte/xgboost-starter-0-793)\n",
    "\n",
    "[Ноутбук amex-catboost-0-793](https://www.kaggle.com/code/huseyincot/amex-catboost-0-793)\n",
    "\n",
    "[Нотбук Lama](https://www.kaggle.com/code/alexryzhkov/amex-lightautoml-starter)"
   ]
  },
  {
   "cell_type": "code",
   "execution_count": 1,
   "metadata": {},
   "outputs": [],
   "source": [
    "import gc\n",
    "import os\n",
    "import pickle\n",
    "\n",
    "import numpy as np\n",
    "import pandas as pd\n",
    "import plotly.express as px\n",
    "import plotly.graph_objects as go\n",
    "import seaborn as sns\n",
    "import xgboost as xgb\n",
    "\n",
    "from matplotlib import pyplot as plt\n",
    "from sklearn.metrics import accuracy_score\n",
    "from sklearn.model_selection import train_test_split, KFold, StratifiedKFold\n",
    "from sklearn import preprocessing\n",
    "from tqdm import tqdm\n",
    "from xgboost import plot_importance\n",
    "\n",
    "import pickle\n",
    "from xgboost import XGBClassifier\n",
    "from catboost import CatBoostClassifier\n",
    "from sklearn.preprocessing import MinMaxScaler, StandardScaler"
   ]
  },
  {
   "cell_type": "code",
   "execution_count": 2,
   "metadata": {},
   "outputs": [
    {
     "name": "stderr",
     "output_type": "stream",
     "text": [
      "/home/kate/anaconda3/lib/python3.8/site-packages/tqdm/std.py:668: FutureWarning: The Panel class is removed from pandas. Accessing it from the top-level namespace will also be removed in the next version\n",
      "  from pandas import Panel\n"
     ]
    }
   ],
   "source": [
    "tqdm.pandas()"
   ]
  },
  {
   "cell_type": "markdown",
   "metadata": {},
   "source": [
    "## Params"
   ]
  },
  {
   "cell_type": "code",
   "execution_count": 3,
   "metadata": {},
   "outputs": [],
   "source": [
    "# VERSION NAME FOR SAVED MODEL FILES\n",
    "VER = 1\n",
    "\n",
    "# TRAIN RANDOM SEED\n",
    "SEED = 42\n",
    "\n",
    "# FILL NAN VALUE\n",
    "NAN_VALUE = -127 # will fit in int8\n",
    "\n",
    "# FOLDS PER MODEL\n",
    "FOLDS = 5"
   ]
  },
  {
   "cell_type": "code",
   "execution_count": 4,
   "metadata": {},
   "outputs": [],
   "source": [
    "index_column = 'customer_ID'\n",
    "time_column = 'S_2'\n",
    "target_column = 'target'"
   ]
  },
  {
   "cell_type": "code",
   "execution_count": 5,
   "metadata": {},
   "outputs": [],
   "source": [
    "tmp = pd.read_feather('train_data_f32.ftr')"
   ]
  },
  {
   "cell_type": "code",
   "execution_count": 6,
   "metadata": {},
   "outputs": [],
   "source": [
    "nul_filler = {\n",
    "    'B_3': 0, 'B_4': 0, 'B_5': 0, 'B_6': 0, 'B_7': 0, 'B_8': 0, 'B_9': 0, 'B_10': 0,\n",
    "    'B_11': 0, 'B_12': 0, 'B_13': 0, 'B_17': -127, 'B_19': 0, \n",
    "    'B_20': 0, 'B_21': 0, 'B_22': 0, 'B_23': 0, 'B_24': 0, 'B_25': 0, 'B_26': 0, 'B_27': 0, 'B_28': 0, 'B_29': -127,\n",
    "    'B_31': -1, 'B_32': 0, 'B_33': -1, 'B_36': 0, 'B_37': 0, 'B_39': -127, 'B_40': 0, 'B_41': 0,\n",
    "    'B_42': -127,\n",
    "    \n",
    "    'D_39': 0, 'D_41': 0, 'D_42': -127, 'D_43': 0, 'D_44': 0, 'D_49': -127, 'D_50': 0,\n",
    "    'D_51': 0, 'D_53': -127, 'D_54': 1, 'D_56': -127, 'D_58': 0, 'D_59': 0.5,\n",
    "    'D_60': 0, 'D_61': 0, 'D_62': 0, 'D_65': 0, 'D_69': 0,\n",
    "    'D_70': 0, 'D_71': 0, 'D_72': 0, 'D_74': 0, 'D_75': 0, 'D_78': 0, 'D_79': 0, 'D_73': -127, 'D_76': -127, 'D_77': -127,\n",
    "    'D_80': 0, 'D_81': 0, 'D_83': 0, 'D_84': 0, 'D_86': 0, 'D_89': 0, 'D_82': -127, 'D_87': -127, 'D_88': -127, \n",
    "    'D_91': 0, 'D_92': 0, 'D_93': 0, 'D_94': 0, 'D_96': 0,\n",
    "    'D_102': 0, 'D_103': -1, 'D_104': -1, 'D_107': 0, 'D_109': 0, 'D_105': -127, 'D_106': -127, 'D_108': -127,\n",
    "    'D_110': -127, 'D_111': -127, 'D_112': 1, 'D_113': 0,\n",
    "    'D_122': -1, 'D_123': 0, 'D_125': 0, 'D_127': 0, 'D_128': -1, 'D_129': -1,\n",
    "    'D_130': -1, 'D_131': -1, 'D_133': 0, 'D_139': -1, 'D_132': -127, 'D_134': -127, 'D_135': -127, 'D_136': -127, \n",
    "    'D_137': -127, 'D_138': -127,\n",
    "    'D_140': 0, 'D_141': -1, 'D_143': -1, 'D_144': 0, 'D_145': 0, 'D_142': -127,\n",
    "    \n",
    "    'P_4': 0,\n",
    "    \n",
    "    'R_1': 0,  'R_2': 0, 'R_3': 0, 'R_4': 0, 'R_5': 0, 'R_6': 0, 'R_7': 0, 'R_8': 0, 'R_9': -127,\n",
    "    'R_10': 0, 'R_11': 0, 'R_12': 1, 'R_13': 0, 'R_14': 0, 'R_15': 0, 'R_16': 0, 'R_17': 0, 'R_18': 0, 'R_19': 0,\n",
    "    'R_20': 0, 'R_21': 0, 'R_22': 0, 'R_23': 0, 'R_24': 0, 'R_25': 0, 'R_26': -127, 'R_27': 1, 'R_28': 0,\n",
    "    \n",
    "    'S_5': 0, 'S_6': 0, 'S_8': 0, 'S_9': -127,\n",
    "    'S_12': 0, 'S_16': 0, 'S_17': 0, 'S_18': 0, 'S_19': 0,\n",
    "    'S_20': 0, 'S_22': 0, 'S_23': 0, 'S_24': 0, 'S_25': 1, 'S_26': 0, 'S_27': 0,\n",
    "    \n",
    "    'B_14': tmp['B_14'].median(),\n",
    "    'B_15': tmp['B_15'].median(),\n",
    "    'B_16': tmp['B_16'].median(),\n",
    "    'B_18': tmp['B_18'].median(),\n",
    "    'B_2': tmp['B_2'].median(),\n",
    "    'B_1': tmp['B_1'].median(),\n",
    "    \n",
    "    'D_46': tmp['D_46'].median(),\n",
    "    'D_47': tmp['D_47'].median(),\n",
    "    'D_48': tmp['D_48'].median(),\n",
    "    'D_45': tmp['D_45'].median(),\n",
    "    'D_52': tmp['D_52'].median(),\n",
    "    'D_55': tmp['D_55'].median(),\n",
    "    'D_115': tmp['D_115'].median(),\n",
    "    'D_118': tmp['D_118'].median(),\n",
    "    'D_119': tmp['D_119'].median(),\n",
    "    'D_121': tmp['D_121'].median(),\n",
    "    'D_124': tmp['D_124'].median(),\n",
    "    \n",
    "    'P_2': tmp['P_2'].median(),\n",
    "    'P_3': tmp['P_3'].median(),\n",
    "\n",
    "    'S_3': tmp['S_3'].median(),\n",
    "    'S_7': tmp['S_7'].median(),\n",
    "    'S_11': tmp['S_11'].median(),\n",
    "    'S_13': tmp['S_13'].median(),\n",
    "    'S_15': tmp['S_15'].median(),\n",
    "}"
   ]
  },
  {
   "cell_type": "code",
   "execution_count": 7,
   "metadata": {},
   "outputs": [],
   "source": [
    "del tmp"
   ]
  },
  {
   "cell_type": "markdown",
   "metadata": {},
   "source": [
    "## Данные для задачи"
   ]
  },
  {
   "cell_type": "code",
   "execution_count": 8,
   "metadata": {},
   "outputs": [],
   "source": [
    "from scipy import signal\n",
    "\n",
    "def apply_convolution(sig, window):\n",
    "    conv = np.repeat([0., 1., 0.], window)\n",
    "    filtered = signal.convolve(sig, conv, mode='same') / window\n",
    "    return filtered"
   ]
  },
  {
   "cell_type": "code",
   "execution_count": 9,
   "metadata": {},
   "outputs": [],
   "source": [
    "def read_file(path='', usecols=None, nrows=None, skiprows=None, cols=None, scaler=None):\n",
    "    cols_for_noise_removal = [\n",
    "        'B_1', 'B_2', 'B_3', 'B_4', 'B_18', \n",
    "        'D_39', 'D_41', 'D_42', 'D_44', 'D_45', 'D_46', 'D_47', 'D_48', 'D_49', 'D_52', 'D_55',\n",
    "        'D_115', 'D_118', 'D_119', 'D_121', 'D_124',\n",
    "        'P_2', 'P_3',\n",
    "        'S_3', 'S_7', 'S_11', 'S_13', 'S_15',\n",
    "        'R_1'\n",
    "    ]\n",
    "    # LOAD DATAFRAME\n",
    "    if nrows and skiprows: \n",
    "        df = pd.read_csv(path, nrows=nrows, skiprows=skiprows, header=None, names=cols)\n",
    "    elif usecols:\n",
    "        df = pd.read_csv(path, columns=usecols)\n",
    "    else: \n",
    "        df = pd.read_feather(path)\n",
    "        df = df.dropna(subset=['B_2'])\n",
    "        \n",
    "        scaler = scaler.fit(df[cols_for_noise_removal])\n",
    "        pickle.dump(scaler, open('scaler.sav', 'wb'))\n",
    "        \n",
    "        for col in tqdm(cols_for_noise_removal):\n",
    "            df[[col]] = df[[col]].apply(lambda srs: apply_convolution(srs, 2))\n",
    "    \n",
    "    df[cols_for_noise_removal] = scaler.transform(df[cols_for_noise_removal])\n",
    "    \n",
    "    # REDUCE DTYPE FOR CUSTOMER_ID\n",
    "    df = df.set_index('customer_ID')\n",
    "    # df['customer_ID'] = df['customer_ID'].apply(lambda x: int(x[-16:], 16)).astype('int64')\n",
    "    \n",
    "    # REDUCE DTYPE FOR DATE\n",
    "    df[time_column] = pd.to_datetime(df[time_column])\n",
    "    \n",
    "    # SORT BY CUSTOMER AND DATE (so agg('last') works correctly)\n",
    "    df = df.sort_values(['customer_ID','S_2'])\n",
    "    # df = df.reset_index(drop=True)\n",
    "    \n",
    "    # CREATE OVERALL ROW MISS VALUE\n",
    "    # features = [x for x in df.columns.values if x not in [index_column, target_column]]\n",
    "    # df['n_missing'] = df[features].isna().sum(axis=1)\n",
    "    \n",
    "    # FILL NAN\n",
    "    # features_num = [x for x in df._get_numeric_data().columns.values if x not in ['customer_ID', 'target']]\n",
    "    # df[features_num] = df[features_num].fillna(NAN_VALUE) \n",
    "    for col in nul_filler.keys():\n",
    "        df[col] = df[col].fillna(nul_filler[col])\n",
    "    \n",
    "    # Dataset info\n",
    "    print('Shape of data:', df.shape)\n",
    "    print('Len of columns:', len(df.columns))\n",
    "    \n",
    "    # Use garbage collector\n",
    "    _ = gc.collect()\n",
    "    \n",
    "    return df"
   ]
  },
  {
   "cell_type": "code",
   "execution_count": 10,
   "metadata": {},
   "outputs": [
    {
     "name": "stdout",
     "output_type": "stream",
     "text": [
      "Reading train data...\n"
     ]
    },
    {
     "name": "stderr",
     "output_type": "stream",
     "text": [
      "100%|██████████| 29/29 [00:27<00:00,  1.07it/s]\n"
     ]
    },
    {
     "name": "stdout",
     "output_type": "stream",
     "text": [
      "Shape of data: (5529435, 190)\n",
      "Len of columns: 190\n"
     ]
    }
   ],
   "source": [
    "# Shape of data: (5531451, 190)\n",
    "print('Reading train data...')\n",
    "scaler = StandardScaler()\n",
    "train_df = read_file(path='train_data_f32.ftr', scaler=scaler)"
   ]
  },
  {
   "cell_type": "code",
   "execution_count": 11,
   "metadata": {},
   "outputs": [
    {
     "data": {
      "text/plain": [
       "(55294, 190)"
      ]
     },
     "execution_count": 11,
     "metadata": {},
     "output_type": "execute_result"
    }
   ],
   "source": [
    "train_df = train_df.sample(frac=0.01)\n",
    "train_df.shape"
   ]
  },
  {
   "cell_type": "code",
   "execution_count": 12,
   "metadata": {},
   "outputs": [
    {
     "data": {
      "text/html": [
       "<div>\n",
       "<style scoped>\n",
       "    .dataframe tbody tr th:only-of-type {\n",
       "        vertical-align: middle;\n",
       "    }\n",
       "\n",
       "    .dataframe tbody tr th {\n",
       "        vertical-align: top;\n",
       "    }\n",
       "\n",
       "    .dataframe thead th {\n",
       "        text-align: right;\n",
       "    }\n",
       "</style>\n",
       "<table border=\"1\" class=\"dataframe\">\n",
       "  <thead>\n",
       "    <tr style=\"text-align: right;\">\n",
       "      <th></th>\n",
       "      <th>S_2</th>\n",
       "      <th>P_2</th>\n",
       "      <th>D_39</th>\n",
       "      <th>B_1</th>\n",
       "      <th>B_2</th>\n",
       "      <th>R_1</th>\n",
       "      <th>S_3</th>\n",
       "      <th>D_41</th>\n",
       "      <th>B_3</th>\n",
       "      <th>D_42</th>\n",
       "      <th>...</th>\n",
       "      <th>D_137</th>\n",
       "      <th>D_138</th>\n",
       "      <th>D_139</th>\n",
       "      <th>D_140</th>\n",
       "      <th>D_141</th>\n",
       "      <th>D_142</th>\n",
       "      <th>D_143</th>\n",
       "      <th>D_144</th>\n",
       "      <th>D_145</th>\n",
       "      <th>target</th>\n",
       "    </tr>\n",
       "    <tr>\n",
       "      <th>customer_ID</th>\n",
       "      <th></th>\n",
       "      <th></th>\n",
       "      <th></th>\n",
       "      <th></th>\n",
       "      <th></th>\n",
       "      <th></th>\n",
       "      <th></th>\n",
       "      <th></th>\n",
       "      <th></th>\n",
       "      <th></th>\n",
       "      <th></th>\n",
       "      <th></th>\n",
       "      <th></th>\n",
       "      <th></th>\n",
       "      <th></th>\n",
       "      <th></th>\n",
       "      <th></th>\n",
       "      <th></th>\n",
       "      <th></th>\n",
       "      <th></th>\n",
       "      <th></th>\n",
       "    </tr>\n",
       "  </thead>\n",
       "  <tbody>\n",
       "    <tr>\n",
       "      <th>13556845364555110066</th>\n",
       "      <td>2017-08-30</td>\n",
       "      <td>0.266894</td>\n",
       "      <td>0.155552</td>\n",
       "      <td>1.868095</td>\n",
       "      <td>-1.481090</td>\n",
       "      <td>-0.328617</td>\n",
       "      <td>0.163908</td>\n",
       "      <td>-0.271759</td>\n",
       "      <td>1.481126</td>\n",
       "      <td>-127.0</td>\n",
       "      <td>...</td>\n",
       "      <td>-127.0</td>\n",
       "      <td>-127.0</td>\n",
       "      <td>0.003229</td>\n",
       "      <td>0.009943</td>\n",
       "      <td>0.007743</td>\n",
       "      <td>-127.0</td>\n",
       "      <td>0.002384</td>\n",
       "      <td>0.005791</td>\n",
       "      <td>0.004957</td>\n",
       "      <td>0</td>\n",
       "    </tr>\n",
       "    <tr>\n",
       "      <th>15076569329621789969</th>\n",
       "      <td>2017-12-16</td>\n",
       "      <td>0.152331</td>\n",
       "      <td>-0.543989</td>\n",
       "      <td>-0.552930</td>\n",
       "      <td>0.476653</td>\n",
       "      <td>-0.323603</td>\n",
       "      <td>-0.288278</td>\n",
       "      <td>-0.261728</td>\n",
       "      <td>-0.515026</td>\n",
       "      <td>-127.0</td>\n",
       "      <td>...</td>\n",
       "      <td>-127.0</td>\n",
       "      <td>-127.0</td>\n",
       "      <td>0.007109</td>\n",
       "      <td>0.008737</td>\n",
       "      <td>0.002658</td>\n",
       "      <td>-127.0</td>\n",
       "      <td>0.001318</td>\n",
       "      <td>0.006652</td>\n",
       "      <td>0.001155</td>\n",
       "      <td>0</td>\n",
       "    </tr>\n",
       "    <tr>\n",
       "      <th>10857032762044505223</th>\n",
       "      <td>2018-01-19</td>\n",
       "      <td>1.202808</td>\n",
       "      <td>-0.553440</td>\n",
       "      <td>-0.558072</td>\n",
       "      <td>0.482375</td>\n",
       "      <td>-0.324165</td>\n",
       "      <td>0.163908</td>\n",
       "      <td>-0.274029</td>\n",
       "      <td>-0.555583</td>\n",
       "      <td>-127.0</td>\n",
       "      <td>...</td>\n",
       "      <td>-127.0</td>\n",
       "      <td>-127.0</td>\n",
       "      <td>0.000783</td>\n",
       "      <td>0.009069</td>\n",
       "      <td>0.008185</td>\n",
       "      <td>-127.0</td>\n",
       "      <td>0.003196</td>\n",
       "      <td>0.001202</td>\n",
       "      <td>0.001815</td>\n",
       "      <td>0</td>\n",
       "    </tr>\n",
       "    <tr>\n",
       "      <th>9479854372293242539</th>\n",
       "      <td>2018-02-10</td>\n",
       "      <td>-1.565382</td>\n",
       "      <td>1.786131</td>\n",
       "      <td>0.212678</td>\n",
       "      <td>-1.433174</td>\n",
       "      <td>0.781160</td>\n",
       "      <td>-0.328685</td>\n",
       "      <td>-0.263513</td>\n",
       "      <td>1.196167</td>\n",
       "      <td>-127.0</td>\n",
       "      <td>...</td>\n",
       "      <td>-127.0</td>\n",
       "      <td>-127.0</td>\n",
       "      <td>0.006628</td>\n",
       "      <td>0.006098</td>\n",
       "      <td>0.003717</td>\n",
       "      <td>-127.0</td>\n",
       "      <td>0.000947</td>\n",
       "      <td>0.000603</td>\n",
       "      <td>0.000520</td>\n",
       "      <td>1</td>\n",
       "    </tr>\n",
       "    <tr>\n",
       "      <th>10470692281496338301</th>\n",
       "      <td>2017-10-16</td>\n",
       "      <td>1.420627</td>\n",
       "      <td>-0.548155</td>\n",
       "      <td>-0.455778</td>\n",
       "      <td>0.954605</td>\n",
       "      <td>-0.336179</td>\n",
       "      <td>-0.598479</td>\n",
       "      <td>-0.261079</td>\n",
       "      <td>-0.555477</td>\n",
       "      <td>-127.0</td>\n",
       "      <td>...</td>\n",
       "      <td>-127.0</td>\n",
       "      <td>-127.0</td>\n",
       "      <td>0.009241</td>\n",
       "      <td>0.009041</td>\n",
       "      <td>0.004561</td>\n",
       "      <td>-127.0</td>\n",
       "      <td>0.007223</td>\n",
       "      <td>0.005258</td>\n",
       "      <td>0.008993</td>\n",
       "      <td>0</td>\n",
       "    </tr>\n",
       "  </tbody>\n",
       "</table>\n",
       "<p>5 rows × 190 columns</p>\n",
       "</div>"
      ],
      "text/plain": [
       "                            S_2       P_2      D_39       B_1       B_2  \\\n",
       "customer_ID                                                               \n",
       "13556845364555110066 2017-08-30  0.266894  0.155552  1.868095 -1.481090   \n",
       "15076569329621789969 2017-12-16  0.152331 -0.543989 -0.552930  0.476653   \n",
       "10857032762044505223 2018-01-19  1.202808 -0.553440 -0.558072  0.482375   \n",
       "9479854372293242539  2018-02-10 -1.565382  1.786131  0.212678 -1.433174   \n",
       "10470692281496338301 2017-10-16  1.420627 -0.548155 -0.455778  0.954605   \n",
       "\n",
       "                           R_1       S_3      D_41       B_3   D_42  ...  \\\n",
       "customer_ID                                                          ...   \n",
       "13556845364555110066 -0.328617  0.163908 -0.271759  1.481126 -127.0  ...   \n",
       "15076569329621789969 -0.323603 -0.288278 -0.261728 -0.515026 -127.0  ...   \n",
       "10857032762044505223 -0.324165  0.163908 -0.274029 -0.555583 -127.0  ...   \n",
       "9479854372293242539   0.781160 -0.328685 -0.263513  1.196167 -127.0  ...   \n",
       "10470692281496338301 -0.336179 -0.598479 -0.261079 -0.555477 -127.0  ...   \n",
       "\n",
       "                      D_137  D_138     D_139     D_140     D_141  D_142  \\\n",
       "customer_ID                                                               \n",
       "13556845364555110066 -127.0 -127.0  0.003229  0.009943  0.007743 -127.0   \n",
       "15076569329621789969 -127.0 -127.0  0.007109  0.008737  0.002658 -127.0   \n",
       "10857032762044505223 -127.0 -127.0  0.000783  0.009069  0.008185 -127.0   \n",
       "9479854372293242539  -127.0 -127.0  0.006628  0.006098  0.003717 -127.0   \n",
       "10470692281496338301 -127.0 -127.0  0.009241  0.009041  0.004561 -127.0   \n",
       "\n",
       "                         D_143     D_144     D_145  target  \n",
       "customer_ID                                                 \n",
       "13556845364555110066  0.002384  0.005791  0.004957       0  \n",
       "15076569329621789969  0.001318  0.006652  0.001155       0  \n",
       "10857032762044505223  0.003196  0.001202  0.001815       0  \n",
       "9479854372293242539   0.000947  0.000603  0.000520       1  \n",
       "10470692281496338301  0.007223  0.005258  0.008993       0  \n",
       "\n",
       "[5 rows x 190 columns]"
      ]
     },
     "execution_count": 12,
     "metadata": {},
     "output_type": "execute_result"
    }
   ],
   "source": [
    "train_df.head()"
   ]
  },
  {
   "cell_type": "markdown",
   "metadata": {},
   "source": [
    "## Feature engineering"
   ]
  },
  {
   "cell_type": "code",
   "execution_count": 13,
   "metadata": {},
   "outputs": [],
   "source": [
    "all_cols = list(set(train_df.columns).difference({index_column, time_column, target_column}))\n",
    "cat_features = [\"B_30\", \"B_38\", \"D_114\", \"D_116\", \"D_117\", \"D_120\", \"D_126\", \"D_63\", \"D_64\", \"D_66\", \"D_68\"]\n",
    "num_features = [col for col in all_cols if col not in cat_features]"
   ]
  },
  {
   "cell_type": "code",
   "execution_count": 14,
   "metadata": {},
   "outputs": [],
   "source": [
    "def get_difference(data, num_features):\n",
    "    df1 = []\n",
    "    customer_ids = []\n",
    "    for customer_id, df in tqdm(data.groupby(['customer_ID'])):\n",
    "        # Get the differences\n",
    "        diff_df1 = df[num_features].diff(1).iloc[[-1]].values.astype(np.float32)\n",
    "        # Append to lists\n",
    "        df1.append(diff_df1)\n",
    "        customer_ids.append(customer_id)\n",
    "    # Concatenate\n",
    "    df1 = np.concatenate(df1, axis = 0)\n",
    "    # Transform to dataframe\n",
    "    df1 = pd.DataFrame(df1, columns = [col + '_diff1' for col in df[num_features].columns])\n",
    "    # Add customer id\n",
    "    df1['customer_ID'] = customer_ids\n",
    "    return df1"
   ]
  },
  {
   "cell_type": "code",
   "execution_count": 15,
   "metadata": {},
   "outputs": [],
   "source": [
    "def process_and_feature_engineer(df, cat_features, num_features, lbl, is_train=True):\n",
    "    print('Starting transforming num_features...')\n",
    "    test_num_agg = df.groupby(index_column)[num_features].agg(['mean', 'std', 'min', 'max', 'last'])\n",
    "    test_num_agg.columns = ['_'.join(x) for x in test_num_agg.columns]\n",
    "    \n",
    "    print('Starting transforming cat_features...')\n",
    "#     test_cat_agg = df.groupby(index_column)[cat_features].agg(['count', 'nunique'])\n",
    "#     test_cat_agg.columns = ['_'.join(x) for x in test_cat_agg.columns]\n",
    "#     tt = df[~df.index.duplicated(keep='last')][cat_features].add_suffix('_last')\n",
    "#     test_cat_agg = pd.concat([test_cat_agg, tt], axis=1)\n",
    "    test_cat_agg = df[~df.index.duplicated(keep='last')][cat_features].add_suffix('_last')\n",
    "    \n",
    "    # Transform float64 columns to float32\n",
    "    cols = list(test_num_agg.dtypes[test_num_agg.dtypes == 'float64'].index)\n",
    "    for col in tqdm(cols):\n",
    "        test_num_agg[col] = test_num_agg[col].astype(np.float32).round(decimals=3).astype('float16')\n",
    "\n",
    "    # Get the difference\n",
    "    # df_diff = get_difference(df, num_features)\n",
    "    \n",
    "    print('Concat all...')\n",
    "    if is_train:\n",
    "        target_df = df[~df.index.duplicated(keep='first')][target_column].to_frame()\n",
    "        df = pd.concat([test_num_agg, test_cat_agg, target_df], axis=1)\n",
    "        del test_num_agg, test_cat_agg, target_df\n",
    "    else:\n",
    "        df = pd.concat([test_num_agg, test_cat_agg], axis=1)\n",
    "        del test_num_agg, test_cat_agg\n",
    "    \n",
    "    df = df.sort_index().reset_index()\n",
    "    df = df.set_index('customer_ID')\n",
    "    print('shape after engineering', df.shape)\n",
    "    \n",
    "    # Label encodding\n",
    "    tcat = [c+'_last' for c in cat_features] #+ [c+'_count' for c in cat_features] + [c+'_nunique' for c in cat_features]\n",
    "    for feat in tcat:\n",
    "        df[feat] = lbl.fit_transform(df[feat].astype(str))\n",
    "    \n",
    "    return df"
   ]
  },
  {
   "cell_type": "code",
   "execution_count": 16,
   "metadata": {},
   "outputs": [],
   "source": [
    "lbl = preprocessing.LabelEncoder()"
   ]
  },
  {
   "cell_type": "code",
   "execution_count": 17,
   "metadata": {},
   "outputs": [
    {
     "name": "stdout",
     "output_type": "stream",
     "text": [
      "Starting transforming num_features...\n"
     ]
    },
    {
     "name": "stderr",
     "output_type": "stream",
     "text": [
      "100%|██████████| 145/145 [00:00<00:00, 949.19it/s]"
     ]
    },
    {
     "name": "stdout",
     "output_type": "stream",
     "text": [
      "Starting transforming cat_features...\n",
      "Concat all...\n"
     ]
    },
    {
     "name": "stderr",
     "output_type": "stream",
     "text": [
      "\n"
     ]
    },
    {
     "name": "stdout",
     "output_type": "stream",
     "text": [
      "shape after engineering (52190, 897)\n",
      "CPU times: user 4.24 s, sys: 695 ms, total: 4.93 s\n",
      "Wall time: 4.93 s\n"
     ]
    }
   ],
   "source": [
    "%%time\n",
    "train_df = process_and_feature_engineer(train_df, cat_features, num_features, lbl)"
   ]
  },
  {
   "cell_type": "code",
   "execution_count": 18,
   "metadata": {},
   "outputs": [
    {
     "data": {
      "text/plain": [
       "Index(['D_123_mean', 'D_123_std', 'D_123_min', 'D_123_max', 'D_123_last',\n",
       "       'R_25_mean', 'R_25_std', 'R_25_min', 'R_25_max', 'R_25_last',\n",
       "       ...\n",
       "       'D_114_last', 'D_116_last', 'D_117_last', 'D_120_last', 'D_126_last',\n",
       "       'D_63_last', 'D_64_last', 'D_66_last', 'D_68_last', 'target'],\n",
       "      dtype='object', length=897)"
      ]
     },
     "execution_count": 18,
     "metadata": {},
     "output_type": "execute_result"
    }
   ],
   "source": [
    "train_df.columns"
   ]
  },
  {
   "cell_type": "code",
   "execution_count": 19,
   "metadata": {},
   "outputs": [
    {
     "data": {
      "text/plain": [
       "896"
      ]
     },
     "execution_count": 19,
     "metadata": {},
     "output_type": "execute_result"
    }
   ],
   "source": [
    "# FEATURES\n",
    "FEATURES = list(set(train_df.columns).difference({index_column, time_column, target_column}))\n",
    "len(FEATURES)"
   ]
  },
  {
   "cell_type": "markdown",
   "metadata": {},
   "source": [
    "## Вычисление метрики"
   ]
  },
  {
   "cell_type": "code",
   "execution_count": 20,
   "metadata": {},
   "outputs": [],
   "source": [
    "def amex_metric_mod(y_true, y_pred):\n",
    "    labels     = np.transpose(np.array([y_true, y_pred]))\n",
    "    labels     = labels[labels[:, 1].argsort()[::-1]]\n",
    "    weights    = np.where(labels[:,0]==0, 20, 1)\n",
    "    cut_vals   = labels[np.cumsum(weights) <= int(0.04 * np.sum(weights))]\n",
    "    top_four   = np.sum(cut_vals[:,0]) / np.sum(labels[:,0])\n",
    "\n",
    "    gini = [0, 0]\n",
    "    for i in [1, 0]:\n",
    "        labels         = np.transpose(np.array([y_true, y_pred]))\n",
    "        labels         = labels[labels[:, i].argsort()[::-1]]\n",
    "        weight         = np.where(labels[:,0]==0, 20, 1)\n",
    "        weight_random  = np.cumsum(weight / np.sum(weight))\n",
    "        total_pos      = np.sum(labels[:, 0] *  weight)\n",
    "        cum_pos_found  = np.cumsum(labels[:, 0] * weight)\n",
    "        lorentz        = cum_pos_found / total_pos\n",
    "        gini[i]        = np.sum((lorentz - weight_random) * weight)\n",
    "\n",
    "    return 0.5 * (gini[1]/gini[0] + top_four)"
   ]
  },
  {
   "cell_type": "markdown",
   "metadata": {},
   "source": [
    "## Train XGBoost и CATBoost"
   ]
  },
  {
   "cell_type": "code",
   "execution_count": 21,
   "metadata": {},
   "outputs": [],
   "source": [
    "# XGB MODEL PARAMETERS\n",
    "xgb_parms = { \n",
    "    'max_depth': 4,\n",
    "    'learning_rate': 0.05, \n",
    "    'subsample': 0.88,\n",
    "    'colsample_bytree': 0.5, \n",
    "    'eval_metric': 'logloss',\n",
    "    'objective': 'binary:logistic',\n",
    "    'tree_method': 'hist',\n",
    "    'random_state': SEED,\n",
    "    'gamma': 1.5,\n",
    "    'min_child_weight': 8,\n",
    "    'lambda': 70,\n",
    "    'eta': 0.01\n",
    "}\n",
    "\n",
    "catb_params = {\n",
    "    'iterations': 3000,\n",
    "    'depth': 5,\n",
    "    'learning_rate' : 0.01,\n",
    "    'loss_function': 'Logloss',\n",
    "    'eval_metric': 'Logloss',\n",
    "    'task_type': 'CPU',\n",
    "    'boosting_type' : 'Plain',\n",
    "    'bootstrap_type' : 'MVS',\n",
    "    'random_state': SEED\n",
    "}"
   ]
  },
  {
   "cell_type": "code",
   "execution_count": 22,
   "metadata": {},
   "outputs": [],
   "source": [
    "def amex_metric_np(preds: np.ndarray, target: np.ndarray) -> float:\n",
    "    indices = np.argsort(preds)[::-1]\n",
    "    preds, target = preds[indices], target[indices]\n",
    "\n",
    "    weight = 20.0 - target * 19.0\n",
    "    cum_norm_weight = (weight / weight.sum()).cumsum()\n",
    "    four_pct_mask = cum_norm_weight <= 0.04\n",
    "    d = np.sum(target[four_pct_mask]) / np.sum(target)\n",
    "\n",
    "    weighted_target = target * weight\n",
    "    lorentz = (weighted_target / weighted_target.sum()).cumsum()\n",
    "    gini = ((lorentz - cum_norm_weight) * weight).sum()\n",
    "\n",
    "    n_pos = np.sum(target)\n",
    "    n_neg = target.shape[0] - n_pos\n",
    "    gini_max = 10 * n_neg * (n_pos + 20 * n_neg - 19) / (n_pos + 20 * n_neg)\n",
    "\n",
    "    g = gini / gini_max\n",
    "    return 0.5 * (g + d)"
   ]
  },
  {
   "cell_type": "code",
   "execution_count": 23,
   "metadata": {},
   "outputs": [],
   "source": [
    "def xgb_amex(y_pred, y_true):\n",
    "    return 'amex', amex_metric_np(y_pred,y_true.get_label())"
   ]
  },
  {
   "cell_type": "code",
   "execution_count": 24,
   "metadata": {},
   "outputs": [],
   "source": [
    "cat_features = [\"B_30\", \"B_38\", \"D_114\", \"D_116\", \"D_117\", \"D_120\", \"D_126\", \"D_63\", \"D_64\", \"D_66\", \"D_68\"]\n",
    "cat_features = [c+'_last' for c in cat_features] #+ [c+'_count' for c in cat_features] + [c+'_nunique' for c in cat_features]"
   ]
  },
  {
   "cell_type": "code",
   "execution_count": 25,
   "metadata": {},
   "outputs": [],
   "source": [
    "train_df = train_df.reset_index()\n",
    "TRAIN_SUBSAMPLE = 1.0\n",
    "skf = KFold(n_splits=FOLDS, shuffle=True, random_state=SEED)"
   ]
  },
  {
   "cell_type": "code",
   "execution_count": 3,
   "metadata": {},
   "outputs": [],
   "source": [
    "gc.collect()\n",
    "\n",
    "# XGBOOST params\n",
    "importances_xgb = []\n",
    "oof = []\n",
    "\n",
    "# CATBOOST params\n",
    "y_oof = np.zeros(train_df.shape[0])\n",
    "y_prob = np.zeros(train_df.shape[0])\n",
    "\n",
    "# Let's do this\n",
    "for fold,(train_idx, valid_idx) in enumerate(skf.split(train_df, train_df[target_column])):\n",
    "    # TRAIN WITH SUBSAMPLE OF TRAIN FOLD DATA\n",
    "    if TRAIN_SUBSAMPLE < 1.0:\n",
    "        np.random.seed(SEED)\n",
    "        train_idx = np.random.choice(train_idx, int(len(train_idx) * TRAIN_SUBSAMPLE), replace=False)\n",
    "        np.random.seed(None)\n",
    "        \n",
    "    print('#' * 100)\n",
    "    print('### Fold', fold + 1)\n",
    "    print('### Train size', len(train_idx), 'Valid size', len(valid_idx))\n",
    "    print(f'### Training with {int(TRAIN_SUBSAMPLE * 100)}% fold data...')\n",
    "    print('#' * 100)\n",
    "    \n",
    "    # TRAIN, VALID, TEST FOR FOLD K\n",
    "    X_train, y_train = train_df.loc[train_idx, FEATURES], train_df.loc[train_idx, target_column]\n",
    "    X_valid, y_valid = train_df.loc[valid_idx, FEATURES], train_df.loc[valid_idx, target_column]\n",
    "    \n",
    "    ############## XGBOOST ##############\n",
    "    dtrain = xgb.DMatrix(data=X_train, label=y_train, enable_categorical=True)\n",
    "    dvalid = xgb.DMatrix(data=X_valid, label=y_valid, enable_categorical=True)\n",
    "    \n",
    "    # TRAIN MODEL FOLD K\n",
    "    model = xgb.train(params=xgb_parms, \n",
    "                      dtrain=dtrain,\n",
    "                      evals=[(dtrain, 'train'), (dvalid, 'valid')],\n",
    "                      num_boost_round=9999,\n",
    "                      early_stopping_rounds=500,\n",
    "                      custom_metric=xgb_amex,\n",
    "                      maximize=True,\n",
    "                      verbose_eval=100)    \n",
    "    \n",
    "    model.save_model('XGB_v{}_fold{}.xgb'.format(VER, fold))\n",
    "\n",
    "    dd = model.get_score(importance_type='weight')\n",
    "    df = pd.DataFrame({'feature': list(dd.keys()), 'importance_{}'.format(fold): list(dd.values())})\n",
    "    importances_xgb.append(df)    \n",
    "            \n",
    "    # INFER OOF FOLD K\n",
    "    oof_preds = model.predict(dvalid)\n",
    "    print('Kaggle XGBOOST Metric =', amex_metric_mod(y_valid.values, oof_preds), '\\n')\n",
    "    \n",
    "    # SAVE OOF\n",
    "    df = train_df.loc[valid_idx, [index_column, target_column]].copy()\n",
    "    df['oof_pred'] = oof_preds\n",
    "    oof.append(df)\n",
    "    \n",
    "    del dtrain, dvalid, dd, df, model\n",
    "    ############## END ##############\n",
    "\n",
    "    print('#' * 100)\n",
    "    \n",
    "    ############## CATBOOST ##############\n",
    "    clf = CatBoostClassifier(**catb_params)\n",
    "    clf.fit(X_train, y_train, eval_set=[(X_valid, y_valid)], cat_features=cat_features, verbose=100)\n",
    "    clf.save_model('CATBOOST_v{}_fold{}.cbm'.format(VER, fold))\n",
    "    \n",
    "    preds = clf.predict(X_valid)\n",
    "    preds_proba = clf.predict_proba(X_valid)[:, 1]\n",
    "    y_oof[valid_idx] += preds\n",
    "    y_prob[valid_idx] += preds_proba\n",
    "    \n",
    "    print('!!!!!! AMEX METRIC:', amex_metric_mod(y_valid.values, preds_proba))\n",
    "    \n",
    "    del clf, X_train, y_train, X_valid, y_valid\n",
    "    ############## END ##############\n",
    "    _ = gc.collect()"
   ]
  },
  {
   "cell_type": "code",
   "execution_count": null,
   "metadata": {},
   "outputs": [],
   "source": [
    "oof = pd.concat(oof, axis=0, ignore_index=True).set_index('customer_ID')\n",
    "print('OVERALL XGBOOST Kaggle Metric =', amex_metric_mod(oof.target.values, oof.oof_pred.values))\n",
    "# MY OLD!!!!!!!!! OVERALL CV Kaggle Metric = 0.7907033100455088\n",
    "# OVERALL CV Kaggle Metric = 0.7913582522747471"
   ]
  },
  {
   "cell_type": "code",
   "execution_count": null,
   "metadata": {},
   "outputs": [],
   "source": [
    "print('OVERALL CATBOOST Kaggle Metric =', amex_metric_np(y_prob, train_df[target_column]))\n",
    "# Amex metric: 0.7905697849584256"
   ]
  },
  {
   "cell_type": "code",
   "execution_count": null,
   "metadata": {},
   "outputs": [],
   "source": [
    "# CLEAN RAM\n",
    "del train_df\n",
    "_ = gc.collect()"
   ]
  },
  {
   "cell_type": "markdown",
   "metadata": {},
   "source": [
    "## Save OOF Preds"
   ]
  },
  {
   "cell_type": "code",
   "execution_count": 30,
   "metadata": {},
   "outputs": [
    {
     "data": {
      "text/html": [
       "<div>\n",
       "<style scoped>\n",
       "    .dataframe tbody tr th:only-of-type {\n",
       "        vertical-align: middle;\n",
       "    }\n",
       "\n",
       "    .dataframe tbody tr th {\n",
       "        vertical-align: top;\n",
       "    }\n",
       "\n",
       "    .dataframe thead th {\n",
       "        text-align: right;\n",
       "    }\n",
       "</style>\n",
       "<table border=\"1\" class=\"dataframe\">\n",
       "  <thead>\n",
       "    <tr style=\"text-align: right;\">\n",
       "      <th></th>\n",
       "      <th>target</th>\n",
       "      <th>oof_pred</th>\n",
       "    </tr>\n",
       "    <tr>\n",
       "      <th>customer_ID_hash</th>\n",
       "      <th></th>\n",
       "      <th></th>\n",
       "    </tr>\n",
       "  </thead>\n",
       "  <tbody>\n",
       "    <tr>\n",
       "      <th>884630779734133</th>\n",
       "      <td>0</td>\n",
       "      <td>0.001182</td>\n",
       "    </tr>\n",
       "    <tr>\n",
       "      <th>9922130711188310</th>\n",
       "      <td>1</td>\n",
       "      <td>0.958794</td>\n",
       "    </tr>\n",
       "    <tr>\n",
       "      <th>15553933145819172</th>\n",
       "      <td>1</td>\n",
       "      <td>0.766243</td>\n",
       "    </tr>\n",
       "    <tr>\n",
       "      <th>92719857100101428</th>\n",
       "      <td>0</td>\n",
       "      <td>0.007576</td>\n",
       "    </tr>\n",
       "    <tr>\n",
       "      <th>99222160834528536</th>\n",
       "      <td>1</td>\n",
       "      <td>0.272940</td>\n",
       "    </tr>\n",
       "  </tbody>\n",
       "</table>\n",
       "</div>"
      ],
      "text/plain": [
       "                   target  oof_pred\n",
       "customer_ID_hash                   \n",
       "884630779734133         0  0.001182\n",
       "9922130711188310        1  0.958794\n",
       "15553933145819172       1  0.766243\n",
       "92719857100101428       0  0.007576\n",
       "99222160834528536       1  0.272940"
      ]
     },
     "execution_count": 30,
     "metadata": {},
     "output_type": "execute_result"
    }
   ],
   "source": [
    "oof_xgb = pd.read_feather('train_data_f32.ftr', columns=[index_column]).drop_duplicates()\n",
    "oof_xgb['customer_ID_hash'] = oof_xgb[index_column].astype(str)\n",
    "oof_xgb['customer_ID_hash'] = oof_xgb['customer_ID_hash'].apply(lambda x: int(x[-16:], 16)).astype('int64')\n",
    "oof_xgb = oof_xgb.set_index(index_column)\n",
    "oof_xgb = oof_xgb.merge(oof, left_index=True, right_index=True)\n",
    "oof_xgb = oof_xgb.sort_index().reset_index(drop=True).set_index('customer_ID_hash')\n",
    "oof_xgb.to_csv('oof_xgb_v{}.csv'.format(VER), index=False)\n",
    "oof_xgb.head()"
   ]
  },
  {
   "cell_type": "code",
   "execution_count": 31,
   "metadata": {},
   "outputs": [
    {
     "data": {
      "image/png": "[encoded data removed]",
      "text/plain": [
       "<Figure size 432x288 with 1 Axes>"
      ]
     },
     "metadata": {
      "needs_background": "light"
     },
     "output_type": "display_data"
    }
   ],
   "source": [
    "# PLOT OOF PREDICTIONS\n",
    "plt.hist(oof_xgb.oof_pred.values, bins=100)\n",
    "plt.title('OOF Predictions')\n",
    "plt.show()"
   ]
  },
  {
   "cell_type": "code",
   "execution_count": 32,
   "metadata": {},
   "outputs": [
    {
     "data": {
      "image/png": "[encoded data removed]",
      "text/plain": [
       "<Figure size 432x288 with 1 Axes>"
      ]
     },
     "metadata": {
      "needs_background": "light"
     },
     "output_type": "display_data"
    }
   ],
   "source": [
    "# PLOT OOF PREDICTIONS\n",
    "plt.hist(y_prob, bins=100)\n",
    "plt.title('OOF Predictions')\n",
    "plt.show()"
   ]
  },
  {
   "cell_type": "code",
   "execution_count": 33,
   "metadata": {},
   "outputs": [],
   "source": [
    "# CLEAR VRAM, RAM FOR INFERENCE BELOW\n",
    "del oof_xgb, oof, y_oof\n",
    "_ = gc.collect()"
   ]
  },
  {
   "cell_type": "markdown",
   "metadata": {},
   "source": [
    "## Feature Importance counting"
   ]
  },
  {
   "cell_type": "code",
   "execution_count": 34,
   "metadata": {},
   "outputs": [],
   "source": [
    "df = importances_xgb[0].copy()\n",
    "\n",
    "for k in range(1, FOLDS):\n",
    "    k_df = importances_xgb[k]\n",
    "    df = df.merge(k_df, on='feature', how='left')\n",
    "\n",
    "df['importance'] = df.iloc[:, 1:].mean(axis=1)\n",
    "df = df.sort_values('importance',ascending=False)\n",
    "df.to_csv('xgb_feature_importance_v{}.csv'.format(VER), index=False)"
   ]
  },
  {
   "cell_type": "code",
   "execution_count": 35,
   "metadata": {},
   "outputs": [
    {
     "data": {
      "image/png": "[encoded data removed]",
      "text/plain": [
       "<Figure size 720x720 with 1 Axes>"
      ]
     },
     "metadata": {
      "needs_background": "light"
     },
     "output_type": "display_data"
    }
   ],
   "source": [
    "NUM_FEATURES = 20\n",
    "plt.figure(figsize=(10,5*NUM_FEATURES//10))\n",
    "plt.barh(np.arange(NUM_FEATURES,0,-1), df.importance.values[:NUM_FEATURES])\n",
    "plt.yticks(np.arange(NUM_FEATURES,0,-1), df.feature.values[:NUM_FEATURES])\n",
    "plt.title(f'XGB Feature Importance - Top {NUM_FEATURES}')\n",
    "plt.show()"
   ]
  },
  {
   "cell_type": "markdown",
   "metadata": {},
   "source": [
    "## Process and Feature Engineer Test Data"
   ]
  },
  {
   "cell_type": "code",
   "execution_count": 22,
   "metadata": {},
   "outputs": [],
   "source": [
    "def get_rows(customers, test, NUM_PARTS=4, verbose = ''):\n",
    "    chunk = len(customers) // NUM_PARTS\n",
    "    if verbose != '':\n",
    "        print(f'We will process {verbose} data as {NUM_PARTS} separate parts.')\n",
    "        print(f'There will be {chunk} customers in each part (except the last part).')\n",
    "        print('Below are number of rows in each part:')\n",
    "    \n",
    "    rows = []\n",
    "\n",
    "    for k in range(NUM_PARTS):\n",
    "        if k == NUM_PARTS - 1: \n",
    "            cc = customers[k * chunk:]\n",
    "        else: \n",
    "            cc = customers[k * chunk: (k + 1) * chunk]\n",
    "        \n",
    "        s = test.loc[test[index_column].isin(cc)].shape[0]\n",
    "        rows.append(s)\n",
    "    \n",
    "    if verbose != '':\n",
    "        print(rows)\n",
    "    \n",
    "    return rows, chunk"
   ]
  },
  {
   "cell_type": "code",
   "execution_count": 23,
   "metadata": {},
   "outputs": [
    {
     "name": "stdout",
     "output_type": "stream",
     "text": [
      "Reading test data...\n"
     ]
    }
   ],
   "source": [
    "# COMPUTE SIZE OF 4 PARTS FOR TEST DATA\n",
    "print('Reading test data...')\n",
    "test = pd.read_csv('test_data.csv', usecols=[index_column, time_column])"
   ]
  },
  {
   "cell_type": "code",
   "execution_count": 24,
   "metadata": {},
   "outputs": [
    {
     "name": "stdout",
     "output_type": "stream",
     "text": [
      "We will process test data as 8 separate parts.\n",
      "There will be 115577 customers in each part (except the last part).\n",
      "Below are number of rows in each part:\n",
      "[1420888, 1420308, 1420364, 1419480, 1421291, 1420809, 1421492, 1419130]\n"
     ]
    }
   ],
   "source": [
    "NUM_PARTS = 8\n",
    "customers = test[index_column].drop_duplicates().sort_index().values.flatten()\n",
    "rows, num_cust = get_rows(customers, test, NUM_PARTS=NUM_PARTS, verbose='test')"
   ]
  },
  {
   "cell_type": "markdown",
   "metadata": {},
   "source": [
    "## Infer Test"
   ]
  },
  {
   "cell_type": "code",
   "execution_count": 25,
   "metadata": {},
   "outputs": [],
   "source": [
    "test = pd.read_csv('test_data.csv', nrows=1)\n",
    "T_COLS = test.columns"
   ]
  },
  {
   "cell_type": "code",
   "execution_count": 4,
   "metadata": {},
   "outputs": [],
   "source": [
    "# INFER TEST DATA IN PARTS\n",
    "skip_rows = 1\n",
    "skip_cust = 0\n",
    "xgb_test_preds = []\n",
    "cb_test_preds = []\n",
    "\n",
    "for k in range(NUM_PARTS):\n",
    "    print('Predict for part =', k + 1)\n",
    "    \n",
    "    # READ CHUNK OF TEST CSV FILE\n",
    "    skip = int(np.sum(rows[:k]) + 1) #the plus one is for skipping header\n",
    "    test = read_file(path='test_data.csv', nrows=rows[k], skiprows=skip_rows, cols=T_COLS, scaler=scaler)\n",
    "    skip_rows += rows[k]\n",
    "    print(f'=> Test part {k+1} has shape', test.shape)\n",
    "    \n",
    "    # PROCESS AND FEATURE ENGINEER PART OF TEST DATA\n",
    "    cat_features = [\"B_30\", \"B_38\", \"D_114\", \"D_116\", \"D_117\", \"D_120\", \"D_126\", \"D_63\", \"D_64\", \"D_66\", \"D_68\"]\n",
    "    test = process_and_feature_engineer(test, cat_features, num_features, lbl, is_train=False)\n",
    "    X_test = test[FEATURES]\n",
    "\n",
    "    # INFER XGB MODELS ON TEST DATA\n",
    "    dtest = xgb.DMatrix(data=X_test)\n",
    "    model = xgb.Booster()\n",
    "    model.load_model(f'XGB_v{VER}_fold0.xgb')\n",
    "    preds = model.predict(dtest)\n",
    "    \n",
    "    for f in range(1, FOLDS):\n",
    "        model.load_model(f'XGB_v{VER}_fold{f}.xgb')\n",
    "        preds += model.predict(dtest)\n",
    "    \n",
    "    preds /= FOLDS\n",
    "    xgb_test_preds.append(preds)\n",
    "    \n",
    "    # INFER CB MODELS ON TEST DATA\n",
    "    model = CatBoostClassifier()\n",
    "    model.load_model(f'CATBOOST_v{VER}_fold0.cbm')\n",
    "    \n",
    "    preds = np.zeros(test.shape[0])\n",
    "    for f in range(0, FOLDS):\n",
    "        model.load_model(f'CATBOOST_v{VER}_fold{f}.cbm')\n",
    "        preds += model.predict_proba(X_test)[:, 1]\n",
    "    \n",
    "    preds /= FOLDS\n",
    "    cb_test_preds.append(preds) \n",
    "    \n",
    "    # CLEAN MEMORY\n",
    "    del dtest, model, X_test\n",
    "    _ = gc.collect()\n",
    "    \n",
    "    print()"
   ]
  },
  {
   "cell_type": "code",
   "execution_count": null,
   "metadata": {},
   "outputs": [],
   "source": [
    "xgb_preds = np.concatenate(xgb_test_preds)\n",
    "xgb_test = pd.DataFrame(data={'customer_ID': customers, 'prediction': xgb_preds})\n",
    "xgb_test['customer_ID'] = xgb_test['customer_ID'].apply(lambda x: int(x[-16:], 16)).astype('int64')\n",
    "xgb_test = xgb_test.set_index('customer_ID')"
   ]
  },
  {
   "cell_type": "code",
   "execution_count": null,
   "metadata": {},
   "outputs": [],
   "source": [
    "cb_preds = np.concatenate(cb_test_preds)\n",
    "cb_test = pd.DataFrame(data={'customer_ID': customers, 'prediction': cb_preds})\n",
    "cb_test['customer_ID'] = cb_test['customer_ID'].apply(lambda x: int(x[-16:], 16)).astype('int64')\n",
    "cb_test = cb_test.set_index('customer_ID')"
   ]
  },
  {
   "cell_type": "markdown",
   "metadata": {},
   "source": [
    "## Create Submission CSV"
   ]
  },
  {
   "cell_type": "code",
   "execution_count": null,
   "metadata": {},
   "outputs": [],
   "source": [
    "# WRITE SUBMISSION FILES\n",
    "sub = pd.read_csv('sample_submission.csv')[[index_column]]\n",
    "sub['customer_ID_hash'] = sub[index_column].apply(lambda x: int(x[-16:], 16)).astype('int64')\n",
    "sub = sub.set_index('customer_ID_hash')\n",
    "\n",
    "sub_xgb = sub.merge(xgb_test[['prediction']], left_index=True, right_index=True, how='left')\n",
    "sub_xgb = sub_xgb.reset_index(drop=True)\n",
    "\n",
    "sub_cb = sub.merge(cb_test[['prediction']], left_index=True, right_index=True, how='left')\n",
    "sub_cb = sub_cb.reset_index(drop=True)"
   ]
  },
  {
   "cell_type": "code",
   "execution_count": null,
   "metadata": {},
   "outputs": [],
   "source": [
    "# DISPLAY PREDICTIONS\n",
    "sub_xgb.to_csv(f'submission_xgb_v{VER}.csv',index=False)\n",
    "print('Submission file shape is', sub_xgb.shape)\n",
    "sub_xgb.head()"
   ]
  },
  {
   "cell_type": "code",
   "execution_count": null,
   "metadata": {},
   "outputs": [],
   "source": [
    "# PLOT PREDICTIONS\n",
    "plt.hist(sub_xgb.prediction, bins=100)\n",
    "plt.title('Test Predictions')\n",
    "plt.show()"
   ]
  },
  {
   "cell_type": "code",
   "execution_count": null,
   "metadata": {},
   "outputs": [],
   "source": [
    "# DISPLAY PREDICTIONS\n",
    "sub_cb.to_csv(f'submission_cb_v{VER}.csv',index=False)\n",
    "print('Submission file shape is', sub_cb.shape)\n",
    "sub_cb.head()"
   ]
  },
  {
   "cell_type": "code",
   "execution_count": null,
   "metadata": {},
   "outputs": [],
   "source": [
    "# PLOT PREDICTIONS\n",
    "plt.hist(sub_cb.prediction, bins=100)\n",
    "plt.title('Test Predictions')\n",
    "plt.show()"
   ]
  }
 ],
 "metadata": {
  "kernelspec": {
   "display_name": "Python 3",
   "language": "python",
   "name": "python3"
  },
  "language_info": {
   "codemirror_mode": {
    "name": "ipython",
    "version": 3
   },
   "file_extension": ".py",
   "mimetype": "text/x-python",
   "name": "python",
   "nbconvert_exporter": "python",
   "pygments_lexer": "ipython3",
   "version": "3.8.3"
  }
 },
 "nbformat": 4,
 "nbformat_minor": 4
}
